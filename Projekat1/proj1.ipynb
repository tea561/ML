{
 "cells": [
  {
   "cell_type": "code",
   "execution_count": 2,
   "metadata": {},
   "outputs": [
    {
     "ename": "ModuleNotFoundError",
     "evalue": "No module named 'pandas'",
     "output_type": "error",
     "traceback": [
      "\u001b[1;31m---------------------------------------------------------------------------\u001b[0m",
      "\u001b[1;31mModuleNotFoundError\u001b[0m                       Traceback (most recent call last)",
      "Cell \u001b[1;32mIn [2], line 1\u001b[0m\n\u001b[1;32m----> 1\u001b[0m \u001b[39mimport\u001b[39;00m \u001b[39mpandas\u001b[39;00m \u001b[39mas\u001b[39;00m \u001b[39mpd\u001b[39;00m\n\u001b[0;32m      2\u001b[0m \u001b[39mimport\u001b[39;00m \u001b[39mmatplotlib\u001b[39;00m\u001b[39m.\u001b[39;00m\u001b[39mpyplot\u001b[39;00m \u001b[39mas\u001b[39;00m \u001b[39mplt\u001b[39;00m\n\u001b[0;32m      3\u001b[0m \u001b[39mimport\u001b[39;00m \u001b[39mseaborn\u001b[39;00m \u001b[39mas\u001b[39;00m \u001b[39msns\u001b[39;00m\n",
      "\u001b[1;31mModuleNotFoundError\u001b[0m: No module named 'pandas'"
     ]
    }
   ],
   "source": [
    "import pandas as pd\n",
    "import matplotlib.pyplot as plt\n",
    "import seaborn as sns\n",
    "import numpy as np\n",
    "import scipy.stats\n",
    "from sklearn.preprocessing import LabelBinarizer,RobustScaler, StandardScaler, MinMaxScaler\n",
    "from sklearn.feature_selection import RFE\n",
    "from sklearn.dummy import DummyRegressor\n",
    "from sklearn.model_selection import train_test_split, GridSearchCV, RandomizedSearchCV\n",
    "from sklearn.linear_model import LinearRegression, Lasso, LassoCV, ElasticNet, Ridge\n",
    "from sklearn.svm import LinearSVR\n",
    "\n",
    "data = pd.read_csv(\"data\\Steel_industry_data.csv\")\n",
    "data.head()"
   ]
  },
  {
   "cell_type": "markdown",
   "metadata": {},
   "source": [
    "### Checking the number of rows and columns"
   ]
  },
  {
   "cell_type": "code",
   "execution_count": 5,
   "metadata": {},
   "outputs": [
    {
     "data": {
      "text/plain": [
       "(35040, 11)"
      ]
     },
     "execution_count": 5,
     "metadata": {},
     "output_type": "execute_result"
    }
   ],
   "source": [
    "data.shape"
   ]
  },
  {
   "cell_type": "markdown",
   "metadata": {},
   "source": [
    "### Information about the data"
   ]
  },
  {
   "cell_type": "code",
   "execution_count": 6,
   "metadata": {},
   "outputs": [
    {
     "name": "stdout",
     "output_type": "stream",
     "text": [
      "<class 'pandas.core.frame.DataFrame'>\n",
      "RangeIndex: 35040 entries, 0 to 35039\n",
      "Data columns (total 11 columns):\n",
      " #   Column                                Non-Null Count  Dtype  \n",
      "---  ------                                --------------  -----  \n",
      " 0   date                                  35040 non-null  object \n",
      " 1   Usage_kWh                             35040 non-null  float64\n",
      " 2   Lagging_Current_Reactive.Power_kVarh  35040 non-null  float64\n",
      " 3   Leading_Current_Reactive_Power_kVarh  35040 non-null  float64\n",
      " 4   CO2(tCO2)                             35040 non-null  float64\n",
      " 5   Lagging_Current_Power_Factor          35040 non-null  float64\n",
      " 6   Leading_Current_Power_Factor          35040 non-null  float64\n",
      " 7   NSM                                   35040 non-null  int64  \n",
      " 8   WeekStatus                            35040 non-null  object \n",
      " 9   Day_of_week                           35040 non-null  object \n",
      " 10  Load_Type                             35040 non-null  object \n",
      "dtypes: float64(6), int64(1), object(4)\n",
      "memory usage: 2.9+ MB\n"
     ]
    }
   ],
   "source": [
    "data.info()"
   ]
  },
  {
   "cell_type": "markdown",
   "metadata": {},
   "source": [
    "### Checking missing values"
   ]
  },
  {
   "cell_type": "code",
   "execution_count": 7,
   "metadata": {},
   "outputs": [
    {
     "data": {
      "text/plain": [
       "date                                    0\n",
       "Usage_kWh                               0\n",
       "Lagging_Current_Reactive.Power_kVarh    0\n",
       "Leading_Current_Reactive_Power_kVarh    0\n",
       "CO2(tCO2)                               0\n",
       "Lagging_Current_Power_Factor            0\n",
       "Leading_Current_Power_Factor            0\n",
       "NSM                                     0\n",
       "WeekStatus                              0\n",
       "Day_of_week                             0\n",
       "Load_Type                               0\n",
       "dtype: int64"
      ]
     },
     "execution_count": 7,
     "metadata": {},
     "output_type": "execute_result"
    }
   ],
   "source": [
    "data.isnull().sum()"
   ]
  },
  {
   "cell_type": "markdown",
   "metadata": {},
   "source": [
    "### Identify duplicates"
   ]
  },
  {
   "cell_type": "code",
   "execution_count": 8,
   "metadata": {},
   "outputs": [
    {
     "data": {
      "text/html": [
       "<div>\n",
       "<style scoped>\n",
       "    .dataframe tbody tr th:only-of-type {\n",
       "        vertical-align: middle;\n",
       "    }\n",
       "\n",
       "    .dataframe tbody tr th {\n",
       "        vertical-align: top;\n",
       "    }\n",
       "\n",
       "    .dataframe thead th {\n",
       "        text-align: right;\n",
       "    }\n",
       "</style>\n",
       "<table border=\"1\" class=\"dataframe\">\n",
       "  <thead>\n",
       "    <tr style=\"text-align: right;\">\n",
       "      <th></th>\n",
       "      <th>date</th>\n",
       "      <th>Usage_kWh</th>\n",
       "      <th>Lagging_Current_Reactive.Power_kVarh</th>\n",
       "      <th>Leading_Current_Reactive_Power_kVarh</th>\n",
       "      <th>CO2(tCO2)</th>\n",
       "      <th>Lagging_Current_Power_Factor</th>\n",
       "      <th>Leading_Current_Power_Factor</th>\n",
       "      <th>NSM</th>\n",
       "      <th>WeekStatus</th>\n",
       "      <th>Day_of_week</th>\n",
       "      <th>Load_Type</th>\n",
       "    </tr>\n",
       "  </thead>\n",
       "  <tbody>\n",
       "  </tbody>\n",
       "</table>\n",
       "</div>"
      ],
      "text/plain": [
       "Empty DataFrame\n",
       "Columns: [date, Usage_kWh, Lagging_Current_Reactive.Power_kVarh, Leading_Current_Reactive_Power_kVarh, CO2(tCO2), Lagging_Current_Power_Factor, Leading_Current_Power_Factor, NSM, WeekStatus, Day_of_week, Load_Type]\n",
       "Index: []"
      ]
     },
     "execution_count": 8,
     "metadata": {},
     "output_type": "execute_result"
    }
   ],
   "source": [
    "dups = data.duplicated()\n",
    "data[dups]"
   ]
  },
  {
   "cell_type": "markdown",
   "metadata": {},
   "source": [
    "### Identify mistyped data"
   ]
  },
  {
   "cell_type": "markdown",
   "metadata": {},
   "source": [
    "Check numeric"
   ]
  },
  {
   "cell_type": "code",
   "execution_count": 9,
   "metadata": {},
   "outputs": [
    {
     "data": {
      "text/html": [
       "<div>\n",
       "<style scoped>\n",
       "    .dataframe tbody tr th:only-of-type {\n",
       "        vertical-align: middle;\n",
       "    }\n",
       "\n",
       "    .dataframe tbody tr th {\n",
       "        vertical-align: top;\n",
       "    }\n",
       "\n",
       "    .dataframe thead th {\n",
       "        text-align: right;\n",
       "    }\n",
       "</style>\n",
       "<table border=\"1\" class=\"dataframe\">\n",
       "  <thead>\n",
       "    <tr style=\"text-align: right;\">\n",
       "      <th></th>\n",
       "      <th>date</th>\n",
       "      <th>Usage_kWh</th>\n",
       "      <th>Lagging_Current_Reactive.Power_kVarh</th>\n",
       "      <th>Leading_Current_Reactive_Power_kVarh</th>\n",
       "      <th>CO2(tCO2)</th>\n",
       "      <th>Lagging_Current_Power_Factor</th>\n",
       "      <th>Leading_Current_Power_Factor</th>\n",
       "      <th>NSM</th>\n",
       "      <th>WeekStatus</th>\n",
       "      <th>Day_of_week</th>\n",
       "      <th>Load_Type</th>\n",
       "    </tr>\n",
       "  </thead>\n",
       "  <tbody>\n",
       "  </tbody>\n",
       "</table>\n",
       "</div>"
      ],
      "text/plain": [
       "Empty DataFrame\n",
       "Columns: [date, Usage_kWh, Lagging_Current_Reactive.Power_kVarh, Leading_Current_Reactive_Power_kVarh, CO2(tCO2), Lagging_Current_Power_Factor, Leading_Current_Power_Factor, NSM, WeekStatus, Day_of_week, Load_Type]\n",
       "Index: []"
      ]
     },
     "execution_count": 9,
     "metadata": {},
     "output_type": "execute_result"
    }
   ],
   "source": [
    "numeric = data.applymap(lambda x: isinstance(x, (int, float)))['Usage_kWh']\n",
    "data[~numeric]"
   ]
  },
  {
   "cell_type": "markdown",
   "metadata": {},
   "source": [
    "Check string"
   ]
  },
  {
   "cell_type": "code",
   "execution_count": 10,
   "metadata": {},
   "outputs": [
    {
     "data": {
      "text/html": [
       "<div>\n",
       "<style scoped>\n",
       "    .dataframe tbody tr th:only-of-type {\n",
       "        vertical-align: middle;\n",
       "    }\n",
       "\n",
       "    .dataframe tbody tr th {\n",
       "        vertical-align: top;\n",
       "    }\n",
       "\n",
       "    .dataframe thead th {\n",
       "        text-align: right;\n",
       "    }\n",
       "</style>\n",
       "<table border=\"1\" class=\"dataframe\">\n",
       "  <thead>\n",
       "    <tr style=\"text-align: right;\">\n",
       "      <th></th>\n",
       "      <th>date</th>\n",
       "      <th>Usage_kWh</th>\n",
       "      <th>Lagging_Current_Reactive.Power_kVarh</th>\n",
       "      <th>Leading_Current_Reactive_Power_kVarh</th>\n",
       "      <th>CO2(tCO2)</th>\n",
       "      <th>Lagging_Current_Power_Factor</th>\n",
       "      <th>Leading_Current_Power_Factor</th>\n",
       "      <th>NSM</th>\n",
       "      <th>WeekStatus</th>\n",
       "      <th>Day_of_week</th>\n",
       "      <th>Load_Type</th>\n",
       "    </tr>\n",
       "  </thead>\n",
       "  <tbody>\n",
       "  </tbody>\n",
       "</table>\n",
       "</div>"
      ],
      "text/plain": [
       "Empty DataFrame\n",
       "Columns: [date, Usage_kWh, Lagging_Current_Reactive.Power_kVarh, Leading_Current_Reactive_Power_kVarh, CO2(tCO2), Lagging_Current_Power_Factor, Leading_Current_Power_Factor, NSM, WeekStatus, Day_of_week, Load_Type]\n",
       "Index: []"
      ]
     },
     "execution_count": 10,
     "metadata": {},
     "output_type": "execute_result"
    }
   ],
   "source": [
    "strings = data.applymap(lambda x: isinstance(x, (str)))['Day_of_week']\n",
    "data[~strings]"
   ]
  },
  {
   "cell_type": "markdown",
   "metadata": {},
   "source": [
    "### Columns info"
   ]
  },
  {
   "cell_type": "markdown",
   "metadata": {},
   "source": [
    "Column 'WeekStatus' values:"
   ]
  },
  {
   "cell_type": "code",
   "execution_count": 11,
   "metadata": {},
   "outputs": [
    {
     "data": {
      "text/plain": [
       "Weekday    25056\n",
       "Weekend     9984\n",
       "Name: WeekStatus, dtype: int64"
      ]
     },
     "execution_count": 11,
     "metadata": {},
     "output_type": "execute_result"
    }
   ],
   "source": [
    "data['WeekStatus'].value_counts()"
   ]
  },
  {
   "cell_type": "markdown",
   "metadata": {},
   "source": [
    "Column 'Load_Type' values:"
   ]
  },
  {
   "cell_type": "code",
   "execution_count": 12,
   "metadata": {},
   "outputs": [
    {
     "data": {
      "text/plain": [
       "Light_Load      18072\n",
       "Medium_Load      9696\n",
       "Maximum_Load     7272\n",
       "Name: Load_Type, dtype: int64"
      ]
     },
     "execution_count": 12,
     "metadata": {},
     "output_type": "execute_result"
    }
   ],
   "source": [
    "data['Load_Type'].value_counts()"
   ]
  },
  {
   "cell_type": "markdown",
   "metadata": {},
   "source": [
    "Mean value"
   ]
  },
  {
   "cell_type": "code",
   "execution_count": 13,
   "metadata": {},
   "outputs": [
    {
     "data": {
      "text/plain": [
       "Usage_kWh                                  27.386892\n",
       "Lagging_Current_Reactive.Power_kVarh       13.035384\n",
       "Leading_Current_Reactive_Power_kVarh        3.870949\n",
       "CO2(tCO2)                                   0.011524\n",
       "Lagging_Current_Power_Factor               80.578056\n",
       "Leading_Current_Power_Factor               84.367870\n",
       "NSM                                     42750.000000\n",
       "dtype: float64"
      ]
     },
     "execution_count": 13,
     "metadata": {},
     "output_type": "execute_result"
    }
   ],
   "source": [
    "data.mean(numeric_only=True)"
   ]
  },
  {
   "cell_type": "markdown",
   "metadata": {},
   "source": [
    "Median value"
   ]
  },
  {
   "cell_type": "code",
   "execution_count": 14,
   "metadata": {},
   "outputs": [
    {
     "data": {
      "text/plain": [
       "Usage_kWh                                   4.57\n",
       "Lagging_Current_Reactive.Power_kVarh        5.00\n",
       "Leading_Current_Reactive_Power_kVarh        0.00\n",
       "CO2(tCO2)                                   0.00\n",
       "Lagging_Current_Power_Factor               87.96\n",
       "Leading_Current_Power_Factor              100.00\n",
       "NSM                                     42750.00\n",
       "dtype: float64"
      ]
     },
     "execution_count": 14,
     "metadata": {},
     "output_type": "execute_result"
    }
   ],
   "source": [
    "data.median(numeric_only=True)"
   ]
  },
  {
   "cell_type": "code",
   "execution_count": 15,
   "metadata": {},
   "outputs": [
    {
     "data": {
      "text/plain": [
       "<matplotlib.collections.LineCollection at 0x260b93ee170>"
      ]
     },
     "execution_count": 15,
     "metadata": {},
     "output_type": "execute_result"
    },
    {
     "data": {
      "image/png": "[encoded data removed]",
      "text/plain": [
       "<Figure size 1000x1000 with 1 Axes>"
      ]
     },
     "metadata": {},
     "output_type": "display_data"
    }
   ],
   "source": [
    "data['Usage_kWh'].plot(kind=\"density\", figsize=(10,10))\n",
    "plt.vlines(data['Usage_kWh'].mean(), ymin = 0, ymax = 0.06, linewidth = 5.0)\n",
    "plt.vlines(data['Usage_kWh'].median(), ymin=0, ymax=0.06, linewidth=2.0, color=\"red\")"
   ]
  },
  {
   "cell_type": "markdown",
   "metadata": {},
   "source": [
    "Mode value"
   ]
  },
  {
   "cell_type": "code",
   "execution_count": 16,
   "metadata": {},
   "outputs": [
    {
     "data": {
      "text/html": [
       "<div>\n",
       "<style scoped>\n",
       "    .dataframe tbody tr th:only-of-type {\n",
       "        vertical-align: middle;\n",
       "    }\n",
       "\n",
       "    .dataframe tbody tr th {\n",
       "        vertical-align: top;\n",
       "    }\n",
       "\n",
       "    .dataframe thead th {\n",
       "        text-align: right;\n",
       "    }\n",
       "</style>\n",
       "<table border=\"1\" class=\"dataframe\">\n",
       "  <thead>\n",
       "    <tr style=\"text-align: right;\">\n",
       "      <th></th>\n",
       "      <th>date</th>\n",
       "      <th>Usage_kWh</th>\n",
       "      <th>Lagging_Current_Reactive.Power_kVarh</th>\n",
       "      <th>Leading_Current_Reactive_Power_kVarh</th>\n",
       "      <th>CO2(tCO2)</th>\n",
       "      <th>Lagging_Current_Power_Factor</th>\n",
       "      <th>Leading_Current_Power_Factor</th>\n",
       "      <th>NSM</th>\n",
       "      <th>WeekStatus</th>\n",
       "      <th>Day_of_week</th>\n",
       "      <th>Load_Type</th>\n",
       "    </tr>\n",
       "  </thead>\n",
       "  <tbody>\n",
       "    <tr>\n",
       "      <th>0</th>\n",
       "      <td>01/01/2018 00:00</td>\n",
       "      <td>3.06</td>\n",
       "      <td>0.0</td>\n",
       "      <td>0.0</td>\n",
       "      <td>0.0</td>\n",
       "      <td>100.0</td>\n",
       "      <td>100.0</td>\n",
       "      <td>0.0</td>\n",
       "      <td>Weekday</td>\n",
       "      <td>Monday</td>\n",
       "      <td>Light_Load</td>\n",
       "    </tr>\n",
       "    <tr>\n",
       "      <th>1</th>\n",
       "      <td>01/01/2018 00:15</td>\n",
       "      <td>NaN</td>\n",
       "      <td>NaN</td>\n",
       "      <td>NaN</td>\n",
       "      <td>NaN</td>\n",
       "      <td>NaN</td>\n",
       "      <td>NaN</td>\n",
       "      <td>900.0</td>\n",
       "      <td>NaN</td>\n",
       "      <td>NaN</td>\n",
       "      <td>NaN</td>\n",
       "    </tr>\n",
       "    <tr>\n",
       "      <th>2</th>\n",
       "      <td>01/01/2018 00:30</td>\n",
       "      <td>NaN</td>\n",
       "      <td>NaN</td>\n",
       "      <td>NaN</td>\n",
       "      <td>NaN</td>\n",
       "      <td>NaN</td>\n",
       "      <td>NaN</td>\n",
       "      <td>1800.0</td>\n",
       "      <td>NaN</td>\n",
       "      <td>NaN</td>\n",
       "      <td>NaN</td>\n",
       "    </tr>\n",
       "    <tr>\n",
       "      <th>3</th>\n",
       "      <td>01/01/2018 00:45</td>\n",
       "      <td>NaN</td>\n",
       "      <td>NaN</td>\n",
       "      <td>NaN</td>\n",
       "      <td>NaN</td>\n",
       "      <td>NaN</td>\n",
       "      <td>NaN</td>\n",
       "      <td>2700.0</td>\n",
       "      <td>NaN</td>\n",
       "      <td>NaN</td>\n",
       "      <td>NaN</td>\n",
       "    </tr>\n",
       "    <tr>\n",
       "      <th>4</th>\n",
       "      <td>01/01/2018 01:00</td>\n",
       "      <td>NaN</td>\n",
       "      <td>NaN</td>\n",
       "      <td>NaN</td>\n",
       "      <td>NaN</td>\n",
       "      <td>NaN</td>\n",
       "      <td>NaN</td>\n",
       "      <td>3600.0</td>\n",
       "      <td>NaN</td>\n",
       "      <td>NaN</td>\n",
       "      <td>NaN</td>\n",
       "    </tr>\n",
       "    <tr>\n",
       "      <th>...</th>\n",
       "      <td>...</td>\n",
       "      <td>...</td>\n",
       "      <td>...</td>\n",
       "      <td>...</td>\n",
       "      <td>...</td>\n",
       "      <td>...</td>\n",
       "      <td>...</td>\n",
       "      <td>...</td>\n",
       "      <td>...</td>\n",
       "      <td>...</td>\n",
       "      <td>...</td>\n",
       "    </tr>\n",
       "    <tr>\n",
       "      <th>35035</th>\n",
       "      <td>31/12/2018 22:45</td>\n",
       "      <td>NaN</td>\n",
       "      <td>NaN</td>\n",
       "      <td>NaN</td>\n",
       "      <td>NaN</td>\n",
       "      <td>NaN</td>\n",
       "      <td>NaN</td>\n",
       "      <td>NaN</td>\n",
       "      <td>NaN</td>\n",
       "      <td>NaN</td>\n",
       "      <td>NaN</td>\n",
       "    </tr>\n",
       "    <tr>\n",
       "      <th>35036</th>\n",
       "      <td>31/12/2018 23:00</td>\n",
       "      <td>NaN</td>\n",
       "      <td>NaN</td>\n",
       "      <td>NaN</td>\n",
       "      <td>NaN</td>\n",
       "      <td>NaN</td>\n",
       "      <td>NaN</td>\n",
       "      <td>NaN</td>\n",
       "      <td>NaN</td>\n",
       "      <td>NaN</td>\n",
       "      <td>NaN</td>\n",
       "    </tr>\n",
       "    <tr>\n",
       "      <th>35037</th>\n",
       "      <td>31/12/2018 23:15</td>\n",
       "      <td>NaN</td>\n",
       "      <td>NaN</td>\n",
       "      <td>NaN</td>\n",
       "      <td>NaN</td>\n",
       "      <td>NaN</td>\n",
       "      <td>NaN</td>\n",
       "      <td>NaN</td>\n",
       "      <td>NaN</td>\n",
       "      <td>NaN</td>\n",
       "      <td>NaN</td>\n",
       "    </tr>\n",
       "    <tr>\n",
       "      <th>35038</th>\n",
       "      <td>31/12/2018 23:30</td>\n",
       "      <td>NaN</td>\n",
       "      <td>NaN</td>\n",
       "      <td>NaN</td>\n",
       "      <td>NaN</td>\n",
       "      <td>NaN</td>\n",
       "      <td>NaN</td>\n",
       "      <td>NaN</td>\n",
       "      <td>NaN</td>\n",
       "      <td>NaN</td>\n",
       "      <td>NaN</td>\n",
       "    </tr>\n",
       "    <tr>\n",
       "      <th>35039</th>\n",
       "      <td>31/12/2018 23:45</td>\n",
       "      <td>NaN</td>\n",
       "      <td>NaN</td>\n",
       "      <td>NaN</td>\n",
       "      <td>NaN</td>\n",
       "      <td>NaN</td>\n",
       "      <td>NaN</td>\n",
       "      <td>NaN</td>\n",
       "      <td>NaN</td>\n",
       "      <td>NaN</td>\n",
       "      <td>NaN</td>\n",
       "    </tr>\n",
       "  </tbody>\n",
       "</table>\n",
       "<p>35040 rows × 11 columns</p>\n",
       "</div>"
      ],
      "text/plain": [
       "                   date  Usage_kWh  Lagging_Current_Reactive.Power_kVarh  \\\n",
       "0      01/01/2018 00:00       3.06                                   0.0   \n",
       "1      01/01/2018 00:15        NaN                                   NaN   \n",
       "2      01/01/2018 00:30        NaN                                   NaN   \n",
       "3      01/01/2018 00:45        NaN                                   NaN   \n",
       "4      01/01/2018 01:00        NaN                                   NaN   \n",
       "...                 ...        ...                                   ...   \n",
       "35035  31/12/2018 22:45        NaN                                   NaN   \n",
       "35036  31/12/2018 23:00        NaN                                   NaN   \n",
       "35037  31/12/2018 23:15        NaN                                   NaN   \n",
       "35038  31/12/2018 23:30        NaN                                   NaN   \n",
       "35039  31/12/2018 23:45        NaN                                   NaN   \n",
       "\n",
       "       Leading_Current_Reactive_Power_kVarh  CO2(tCO2)  \\\n",
       "0                                       0.0        0.0   \n",
       "1                                       NaN        NaN   \n",
       "2                                       NaN        NaN   \n",
       "3                                       NaN        NaN   \n",
       "4                                       NaN        NaN   \n",
       "...                                     ...        ...   \n",
       "35035                                   NaN        NaN   \n",
       "35036                                   NaN        NaN   \n",
       "35037                                   NaN        NaN   \n",
       "35038                                   NaN        NaN   \n",
       "35039                                   NaN        NaN   \n",
       "\n",
       "       Lagging_Current_Power_Factor  Leading_Current_Power_Factor     NSM  \\\n",
       "0                             100.0                         100.0     0.0   \n",
       "1                               NaN                           NaN   900.0   \n",
       "2                               NaN                           NaN  1800.0   \n",
       "3                               NaN                           NaN  2700.0   \n",
       "4                               NaN                           NaN  3600.0   \n",
       "...                             ...                           ...     ...   \n",
       "35035                           NaN                           NaN     NaN   \n",
       "35036                           NaN                           NaN     NaN   \n",
       "35037                           NaN                           NaN     NaN   \n",
       "35038                           NaN                           NaN     NaN   \n",
       "35039                           NaN                           NaN     NaN   \n",
       "\n",
       "      WeekStatus Day_of_week   Load_Type  \n",
       "0        Weekday      Monday  Light_Load  \n",
       "1            NaN         NaN         NaN  \n",
       "2            NaN         NaN         NaN  \n",
       "3            NaN         NaN         NaN  \n",
       "4            NaN         NaN         NaN  \n",
       "...          ...         ...         ...  \n",
       "35035        NaN         NaN         NaN  \n",
       "35036        NaN         NaN         NaN  \n",
       "35037        NaN         NaN         NaN  \n",
       "35038        NaN         NaN         NaN  \n",
       "35039        NaN         NaN         NaN  \n",
       "\n",
       "[35040 rows x 11 columns]"
      ]
     },
     "execution_count": 16,
     "metadata": {},
     "output_type": "execute_result"
    }
   ],
   "source": [
    "data.mode()"
   ]
  },
  {
   "cell_type": "markdown",
   "metadata": {},
   "source": [
    "Variance"
   ]
  },
  {
   "cell_type": "code",
   "execution_count": 17,
   "metadata": {},
   "outputs": [
    {
     "data": {
      "text/plain": [
       "1118.5265340538938"
      ]
     },
     "execution_count": 17,
     "metadata": {},
     "output_type": "execute_result"
    }
   ],
   "source": [
    "data['Usage_kWh'].var()"
   ]
  },
  {
   "cell_type": "markdown",
   "metadata": {},
   "source": [
    "Standard deviation"
   ]
  },
  {
   "cell_type": "code",
   "execution_count": 18,
   "metadata": {},
   "outputs": [
    {
     "data": {
      "text/plain": [
       "33.44437970801513"
      ]
     },
     "execution_count": 18,
     "metadata": {},
     "output_type": "execute_result"
    }
   ],
   "source": [
    "data['Usage_kWh'].std()"
   ]
  },
  {
   "cell_type": "markdown",
   "metadata": {},
   "source": [
    "Percentiles"
   ]
  },
  {
   "cell_type": "code",
   "execution_count": 19,
   "metadata": {},
   "outputs": [
    {
     "data": {
      "text/plain": [
       "array([  0.    ,   3.2   ,   4.57  ,  51.2375, 157.18  ])"
      ]
     },
     "execution_count": 19,
     "metadata": {},
     "output_type": "execute_result"
    }
   ],
   "source": [
    "percentiles = np.percentile(data['Usage_kWh'], [0, 25, 50, 75, 100])\n",
    "percentiles"
   ]
  },
  {
   "cell_type": "markdown",
   "metadata": {},
   "source": [
    "'Usage_kWh' column description:"
   ]
  },
  {
   "cell_type": "code",
   "execution_count": 20,
   "metadata": {},
   "outputs": [
    {
     "data": {
      "text/plain": [
       "DescribeResult(nobs=35040, minmax=(0.0, 157.18), mean=27.386892408675795, variance=1118.526534053894, skewness=1.1973938227692211, kurtosis=0.3913856014239281)"
      ]
     },
     "execution_count": 20,
     "metadata": {},
     "output_type": "execute_result"
    }
   ],
   "source": [
    "desc_stat = scipy.stats.describe(data['Usage_kWh'], ddof = 1, bias = False)\n",
    "desc_stat"
   ]
  },
  {
   "cell_type": "markdown",
   "metadata": {},
   "source": [
    "Data description"
   ]
  },
  {
   "cell_type": "code",
   "execution_count": 21,
   "metadata": {},
   "outputs": [
    {
     "data": {
      "text/html": [
       "<div>\n",
       "<style scoped>\n",
       "    .dataframe tbody tr th:only-of-type {\n",
       "        vertical-align: middle;\n",
       "    }\n",
       "\n",
       "    .dataframe tbody tr th {\n",
       "        vertical-align: top;\n",
       "    }\n",
       "\n",
       "    .dataframe thead th {\n",
       "        text-align: right;\n",
       "    }\n",
       "</style>\n",
       "<table border=\"1\" class=\"dataframe\">\n",
       "  <thead>\n",
       "    <tr style=\"text-align: right;\">\n",
       "      <th></th>\n",
       "      <th>Usage_kWh</th>\n",
       "      <th>Lagging_Current_Reactive.Power_kVarh</th>\n",
       "      <th>Leading_Current_Reactive_Power_kVarh</th>\n",
       "      <th>CO2(tCO2)</th>\n",
       "      <th>Lagging_Current_Power_Factor</th>\n",
       "      <th>Leading_Current_Power_Factor</th>\n",
       "      <th>NSM</th>\n",
       "    </tr>\n",
       "  </thead>\n",
       "  <tbody>\n",
       "    <tr>\n",
       "      <th>count</th>\n",
       "      <td>35040.000000</td>\n",
       "      <td>35040.000000</td>\n",
       "      <td>35040.000000</td>\n",
       "      <td>35040.000000</td>\n",
       "      <td>35040.000000</td>\n",
       "      <td>35040.000000</td>\n",
       "      <td>35040.000000</td>\n",
       "    </tr>\n",
       "    <tr>\n",
       "      <th>mean</th>\n",
       "      <td>27.386892</td>\n",
       "      <td>13.035384</td>\n",
       "      <td>3.870949</td>\n",
       "      <td>0.011524</td>\n",
       "      <td>80.578056</td>\n",
       "      <td>84.367870</td>\n",
       "      <td>42750.000000</td>\n",
       "    </tr>\n",
       "    <tr>\n",
       "      <th>std</th>\n",
       "      <td>33.444380</td>\n",
       "      <td>16.306000</td>\n",
       "      <td>7.424463</td>\n",
       "      <td>0.016151</td>\n",
       "      <td>18.921322</td>\n",
       "      <td>30.456535</td>\n",
       "      <td>24940.534317</td>\n",
       "    </tr>\n",
       "    <tr>\n",
       "      <th>min</th>\n",
       "      <td>0.000000</td>\n",
       "      <td>0.000000</td>\n",
       "      <td>0.000000</td>\n",
       "      <td>0.000000</td>\n",
       "      <td>0.000000</td>\n",
       "      <td>0.000000</td>\n",
       "      <td>0.000000</td>\n",
       "    </tr>\n",
       "    <tr>\n",
       "      <th>25%</th>\n",
       "      <td>3.200000</td>\n",
       "      <td>2.300000</td>\n",
       "      <td>0.000000</td>\n",
       "      <td>0.000000</td>\n",
       "      <td>63.320000</td>\n",
       "      <td>99.700000</td>\n",
       "      <td>21375.000000</td>\n",
       "    </tr>\n",
       "    <tr>\n",
       "      <th>50%</th>\n",
       "      <td>4.570000</td>\n",
       "      <td>5.000000</td>\n",
       "      <td>0.000000</td>\n",
       "      <td>0.000000</td>\n",
       "      <td>87.960000</td>\n",
       "      <td>100.000000</td>\n",
       "      <td>42750.000000</td>\n",
       "    </tr>\n",
       "    <tr>\n",
       "      <th>75%</th>\n",
       "      <td>51.237500</td>\n",
       "      <td>22.640000</td>\n",
       "      <td>2.090000</td>\n",
       "      <td>0.020000</td>\n",
       "      <td>99.022500</td>\n",
       "      <td>100.000000</td>\n",
       "      <td>64125.000000</td>\n",
       "    </tr>\n",
       "    <tr>\n",
       "      <th>max</th>\n",
       "      <td>157.180000</td>\n",
       "      <td>96.910000</td>\n",
       "      <td>27.760000</td>\n",
       "      <td>0.070000</td>\n",
       "      <td>100.000000</td>\n",
       "      <td>100.000000</td>\n",
       "      <td>85500.000000</td>\n",
       "    </tr>\n",
       "  </tbody>\n",
       "</table>\n",
       "</div>"
      ],
      "text/plain": [
       "          Usage_kWh  Lagging_Current_Reactive.Power_kVarh  \\\n",
       "count  35040.000000                          35040.000000   \n",
       "mean      27.386892                             13.035384   \n",
       "std       33.444380                             16.306000   \n",
       "min        0.000000                              0.000000   \n",
       "25%        3.200000                              2.300000   \n",
       "50%        4.570000                              5.000000   \n",
       "75%       51.237500                             22.640000   \n",
       "max      157.180000                             96.910000   \n",
       "\n",
       "       Leading_Current_Reactive_Power_kVarh     CO2(tCO2)  \\\n",
       "count                          35040.000000  35040.000000   \n",
       "mean                               3.870949      0.011524   \n",
       "std                                7.424463      0.016151   \n",
       "min                                0.000000      0.000000   \n",
       "25%                                0.000000      0.000000   \n",
       "50%                                0.000000      0.000000   \n",
       "75%                                2.090000      0.020000   \n",
       "max                               27.760000      0.070000   \n",
       "\n",
       "       Lagging_Current_Power_Factor  Leading_Current_Power_Factor  \\\n",
       "count                  35040.000000                  35040.000000   \n",
       "mean                      80.578056                     84.367870   \n",
       "std                       18.921322                     30.456535   \n",
       "min                        0.000000                      0.000000   \n",
       "25%                       63.320000                     99.700000   \n",
       "50%                       87.960000                    100.000000   \n",
       "75%                       99.022500                    100.000000   \n",
       "max                      100.000000                    100.000000   \n",
       "\n",
       "                NSM  \n",
       "count  35040.000000  \n",
       "mean   42750.000000  \n",
       "std    24940.534317  \n",
       "min        0.000000  \n",
       "25%    21375.000000  \n",
       "50%    42750.000000  \n",
       "75%    64125.000000  \n",
       "max    85500.000000  "
      ]
     },
     "execution_count": 21,
     "metadata": {},
     "output_type": "execute_result"
    }
   ],
   "source": [
    "data.describe()"
   ]
  },
  {
   "cell_type": "code",
   "execution_count": 22,
   "metadata": {},
   "outputs": [
    {
     "data": {
      "image/png": "[encoded data removed]",
      "text/plain": [
       "<Figure size 1000x800 with 1 Axes>"
      ]
     },
     "metadata": {},
     "output_type": "display_data"
    }
   ],
   "source": [
    "sns.set(style=\"whitegrid\")\n",
    "plt.figure(figsize=(10,8))\n",
    "ax = sns.boxplot(x='Usage_kWh', data=data, y='Day_of_week', orient=\"h\")"
   ]
  },
  {
   "cell_type": "code",
   "execution_count": 23,
   "metadata": {},
   "outputs": [
    {
     "name": "stderr",
     "output_type": "stream",
     "text": [
      "C:\\Users\\Tea\\AppData\\Local\\Temp\\ipykernel_7796\\1477773921.py:1: FutureWarning: The default value of numeric_only in DataFrame.corr is deprecated. In a future version, it will default to False. Select only valid columns or specify the value of numeric_only to silence this warning.\n",
      "  correlation = data.corr()\n"
     ]
    },
    {
     "data": {
      "text/plain": [
       "<AxesSubplot: >"
      ]
     },
     "execution_count": 23,
     "metadata": {},
     "output_type": "execute_result"
    },
    {
     "data": {
      "image/png": "[encoded data removed]",
      "text/plain": [
       "<Figure size 1000x1000 with 2 Axes>"
      ]
     },
     "metadata": {},
     "output_type": "display_data"
    }
   ],
   "source": [
    "correlation = data.corr()\n",
    "plt.figure(figsize=(10,10))\n",
    "sns.heatmap(correlation, cbar=True, square=True, fmt='.1f', annot=True, annot_kws={'size':8}, cmap='Blues')\n"
   ]
  },
  {
   "cell_type": "code",
   "execution_count": 24,
   "metadata": {},
   "outputs": [
    {
     "data": {
      "text/plain": [
       "<seaborn.axisgrid.FacetGrid at 0x260ba15dae0>"
      ]
     },
     "execution_count": 24,
     "metadata": {},
     "output_type": "execute_result"
    },
    {
     "data": {
      "image/png": "[encoded data removed]",
      "text/plain": [
       "<Figure size 1000x500 with 1 Axes>"
      ]
     },
     "metadata": {},
     "output_type": "display_data"
    }
   ],
   "source": [
    "sns.displot(data['Day_of_week'], height=5, aspect=2)"
   ]
  },
  {
   "cell_type": "code",
   "execution_count": 25,
   "metadata": {},
   "outputs": [
    {
     "data": {
      "text/plain": [
       "{'whiskers': [<matplotlib.lines.Line2D at 0x260ba24bd60>,\n",
       "  <matplotlib.lines.Line2D at 0x260baad0040>,\n",
       "  <matplotlib.lines.Line2D at 0x260baad0ee0>,\n",
       "  <matplotlib.lines.Line2D at 0x260baad1180>,\n",
       "  <matplotlib.lines.Line2D at 0x260baad2140>,\n",
       "  <matplotlib.lines.Line2D at 0x260baad23e0>,\n",
       "  <matplotlib.lines.Line2D at 0x260baad33a0>,\n",
       "  <matplotlib.lines.Line2D at 0x260baad3640>,\n",
       "  <matplotlib.lines.Line2D at 0x260bab0c640>,\n",
       "  <matplotlib.lines.Line2D at 0x260bab0c8e0>],\n",
       " 'caps': [<matplotlib.lines.Line2D at 0x260baad01c0>,\n",
       "  <matplotlib.lines.Line2D at 0x260baad0460>,\n",
       "  <matplotlib.lines.Line2D at 0x260baad1420>,\n",
       "  <matplotlib.lines.Line2D at 0x260baad16c0>,\n",
       "  <matplotlib.lines.Line2D at 0x260baad2680>,\n",
       "  <matplotlib.lines.Line2D at 0x260baad2920>,\n",
       "  <matplotlib.lines.Line2D at 0x260baad38e0>,\n",
       "  <matplotlib.lines.Line2D at 0x260baad3b80>,\n",
       "  <matplotlib.lines.Line2D at 0x260bab0cb80>,\n",
       "  <matplotlib.lines.Line2D at 0x260bab0ce20>],\n",
       " 'boxes': [<matplotlib.lines.Line2D at 0x260ba24bac0>,\n",
       "  <matplotlib.lines.Line2D at 0x260baad0c40>,\n",
       "  <matplotlib.lines.Line2D at 0x260baad1ea0>,\n",
       "  <matplotlib.lines.Line2D at 0x260baad3100>,\n",
       "  <matplotlib.lines.Line2D at 0x260bab0c3a0>],\n",
       " 'medians': [<matplotlib.lines.Line2D at 0x260baad0700>,\n",
       "  <matplotlib.lines.Line2D at 0x260baad1960>,\n",
       "  <matplotlib.lines.Line2D at 0x260baad2bc0>,\n",
       "  <matplotlib.lines.Line2D at 0x260baad3e20>,\n",
       "  <matplotlib.lines.Line2D at 0x260bab0d0c0>],\n",
       " 'fliers': [<matplotlib.lines.Line2D at 0x260baad09a0>,\n",
       "  <matplotlib.lines.Line2D at 0x260baad1c00>,\n",
       "  <matplotlib.lines.Line2D at 0x260baad2e60>,\n",
       "  <matplotlib.lines.Line2D at 0x260bab0c100>,\n",
       "  <matplotlib.lines.Line2D at 0x260bab0d360>],\n",
       " 'means': []}"
      ]
     },
     "execution_count": 25,
     "metadata": {},
     "output_type": "execute_result"
    },
    {
     "data": {
      "image/png": "[encoded data removed]",
      "text/plain": [
       "<Figure size 1000x700 with 1 Axes>"
      ]
     },
     "metadata": {},
     "output_type": "display_data"
    }
   ],
   "source": [
    "fig = plt.figure(figsize =(10, 7))\n",
    "ax = fig.add_axes([0, 0, 1, 1])\n",
    "ax.boxplot([data['Usage_kWh'], data['Lagging_Current_Power_Factor'], data['Leading_Current_Power_Factor'], data['Lagging_Current_Reactive.Power_kVarh'], data['Leading_Current_Reactive_Power_kVarh']])"
   ]
  },
  {
   "cell_type": "markdown",
   "metadata": {},
   "source": [
    "Encoding Nominal Categorial Data"
   ]
  },
  {
   "cell_type": "code",
   "execution_count": 26,
   "metadata": {},
   "outputs": [
    {
     "name": "stdout",
     "output_type": "stream",
     "text": [
      "['Weekday' 'Weekend']\n",
      "[[0]\n",
      " [0]\n",
      " [0]\n",
      " ...\n",
      " [0]\n",
      " [0]\n",
      " [0]]\n",
      "['Light_Load' 'Maximum_Load' 'Medium_Load']\n"
     ]
    },
    {
     "data": {
      "text/plain": [
       "array([[1, 0, 0],\n",
       "       [1, 0, 0],\n",
       "       [1, 0, 0],\n",
       "       ...,\n",
       "       [1, 0, 0],\n",
       "       [1, 0, 0],\n",
       "       [1, 0, 0]])"
      ]
     },
     "execution_count": 26,
     "metadata": {},
     "output_type": "execute_result"
    }
   ],
   "source": [
    "one_hot = LabelBinarizer()\n",
    "\n",
    "encoded_weekstatus = one_hot.fit_transform(data['WeekStatus'])\n",
    "data['WeekStatus'] = one_hot.fit_transform(data['WeekStatus'])\n",
    "print(one_hot.classes_)\n",
    "print(encoded_weekstatus)\n",
    "\n",
    "encoded_load_type = one_hot.fit_transform(data['Load_Type'])\n",
    "data['Load_Type'] = one_hot.fit_transform(data['Load_Type'])\n",
    "\n",
    "print(one_hot.classes_)\n",
    "encoded_load_type"
   ]
  },
  {
   "cell_type": "markdown",
   "metadata": {},
   "source": [
    "Encoding Ordinal Categorial Data"
   ]
  },
  {
   "cell_type": "code",
   "execution_count": 27,
   "metadata": {},
   "outputs": [
    {
     "name": "stdout",
     "output_type": "stream",
     "text": [
      "1    5088\n",
      "2    4992\n",
      "3    4992\n",
      "4    4992\n",
      "5    4992\n",
      "6    4992\n",
      "7    4992\n",
      "Name: Day_of_week, dtype: int64\n"
     ]
    }
   ],
   "source": [
    "scale_mapper = {\"Monday\": 1,\n",
    "                \"Tuesday\": 2,\n",
    "                \"Wednesday\": 3,\n",
    "                \"Thursday\": 4,\n",
    "                \"Friday\": 5,\n",
    "                \"Saturday\": 6,\n",
    "                \"Sunday\": 7}\n",
    "\n",
    "encoded_day_of_week = data['Day_of_week'].replace(scale_mapper)\n",
    "data['Day_of_week'] = data['Day_of_week'].replace(scale_mapper)\n",
    "\n",
    "print(data['Day_of_week'].value_counts())\n",
    "#encoded_day_of_week.value_counts()"
   ]
  },
  {
   "cell_type": "code",
   "execution_count": 28,
   "metadata": {},
   "outputs": [
    {
     "name": "stderr",
     "output_type": "stream",
     "text": [
      "C:\\Users\\Tea\\AppData\\Local\\Temp\\ipykernel_7796\\2644994958.py:1: FutureWarning: The default value of numeric_only in DataFrame.corr is deprecated. In a future version, it will default to False. Select only valid columns or specify the value of numeric_only to silence this warning.\n",
      "  correlation = data.corr()\n"
     ]
    },
    {
     "data": {
      "text/plain": [
       "<AxesSubplot: >"
      ]
     },
     "execution_count": 28,
     "metadata": {},
     "output_type": "execute_result"
    },
    {
     "data": {
      "image/png": "[encoded data removed]",
      "text/plain": [
       "<Figure size 1000x1000 with 2 Axes>"
      ]
     },
     "metadata": {},
     "output_type": "display_data"
    }
   ],
   "source": [
    "correlation = data.corr()\n",
    "plt.figure(figsize=(10,10))\n",
    "sns.heatmap(correlation, cbar=True, square=True, fmt='.1f', annot=True, annot_kws={'size':8}, cmap='Blues')"
   ]
  },
  {
   "cell_type": "markdown",
   "metadata": {},
   "source": [
    "Testing different Regression Models with all features"
   ]
  },
  {
   "cell_type": "code",
   "execution_count": 29,
   "metadata": {},
   "outputs": [
    {
     "name": "stdout",
     "output_type": "stream",
     "text": [
      "Dummy (mean) score: -0.0001589100299508317\n",
      "vs\n",
      "Dummy (constant) score: -0.04587744103278535\n",
      "vs\n",
      "Linear regression score: 0.978010134179461\n",
      "vs\n",
      "Lasso regression score: 0.9170918403753938\n",
      "vs\n",
      "ElasticNet regression score: 0.9164948757988141\n",
      "vs\n",
      "Ridge regression score: 0.9800663473974041\n",
      "vs\n",
      "Linear SVR regression score with minmax scaler: 0.980700337208835\n",
      "vs\n",
      "Linear SVR regression score with standard scaler: 0.9807345225778069\n"
     ]
    }
   ],
   "source": [
    "temp = data.loc[:, data.columns != 'Usage_kWh']\n",
    "features, target = temp.loc[:, temp.columns != 'date'], data['Usage_kWh']\n",
    "features_train, features_test, target_train, target_test = train_test_split(features, target, random_state=0)\n",
    "\n",
    "dummy = DummyRegressor(strategy=\"mean\")\n",
    "dummy.fit(features_train, target_train)\n",
    "d_score = dummy.score(features_test, target_test)\n",
    "\n",
    "clf = DummyRegressor(strategy='constant', constant=20)\n",
    "clf.fit(features_train, target_train)\n",
    "clf_score = clf.score(features_test, target_test)\n",
    "\n",
    "lr = LinearRegression()\n",
    "lr.fit(features_train, target_train)\n",
    "lr_score = lr.score(features_test, target_test)\n",
    "\n",
    "lasso = Lasso(alpha=0.1)\n",
    "lasso.fit(features_train, target_train)\n",
    "llr_score = lasso.score(features_train, target_train)\n",
    "\n",
    "en = ElasticNet(alpha=0.1)\n",
    "en.fit(features_train, target_train)\n",
    "en_score = en.score(features_train, target_train)\n",
    "\n",
    "rlr = Ridge(alpha=0.1)\n",
    "rlr.fit(features_train, target_train)\n",
    "rlr_score = rlr.score(features_train, target_train)\n",
    "\n",
    "scaler = MinMaxScaler()\n",
    "features_train = scaler.fit_transform(features_train)\n",
    "features_test = scaler.transform(features_test)\n",
    "svr = LinearSVR()\n",
    "svr.fit(features_train, target_train)\n",
    "svr_score_1 = svr.score(features_train, target_train)\n",
    "\n",
    "scaler = StandardScaler()\n",
    "features_train = scaler.fit_transform(features_train)\n",
    "features_test = scaler.transform(features_test)\n",
    "svr = LinearSVR()\n",
    "svr.fit(features_train, target_train)\n",
    "svr_score_2 = svr.score(features_train, target_train)\n",
    "\n",
    "print(\"Dummy (mean) score: \" + str(d_score))\n",
    "print(\"vs\")\n",
    "print(\"Dummy (constant) score: \" + str(clf_score))\n",
    "print(\"vs\")\n",
    "print(\"Linear regression score: \" + str(lr_score))\n",
    "print(\"vs\")\n",
    "print(\"Lasso regression score: \" + str(llr_score))\n",
    "print(\"vs\")\n",
    "print(\"ElasticNet regression score: \" + str(en_score))\n",
    "print(\"vs\")\n",
    "print(\"Ridge regression score: \" + str(rlr_score))\n",
    "print(\"vs\")\n",
    "print(\"Linear SVR regression score with minmax scaler: \" + str(svr_score_1))\n",
    "print(\"vs\")\n",
    "print(\"Linear SVR regression score with standard scaler: \" + str(svr_score_2))"
   ]
  },
  {
   "cell_type": "markdown",
   "metadata": {},
   "source": [
    "Describing data after removing row with all zeroes"
   ]
  },
  {
   "cell_type": "code",
   "execution_count": 30,
   "metadata": {},
   "outputs": [
    {
     "data": {
      "text/html": [
       "<div>\n",
       "<style scoped>\n",
       "    .dataframe tbody tr th:only-of-type {\n",
       "        vertical-align: middle;\n",
       "    }\n",
       "\n",
       "    .dataframe tbody tr th {\n",
       "        vertical-align: top;\n",
       "    }\n",
       "\n",
       "    .dataframe thead th {\n",
       "        text-align: right;\n",
       "    }\n",
       "</style>\n",
       "<table border=\"1\" class=\"dataframe\">\n",
       "  <thead>\n",
       "    <tr style=\"text-align: right;\">\n",
       "      <th></th>\n",
       "      <th>Usage_kWh</th>\n",
       "      <th>Lagging_Current_Reactive.Power_kVarh</th>\n",
       "      <th>Leading_Current_Reactive_Power_kVarh</th>\n",
       "      <th>CO2(tCO2)</th>\n",
       "      <th>Lagging_Current_Power_Factor</th>\n",
       "      <th>Leading_Current_Power_Factor</th>\n",
       "      <th>NSM</th>\n",
       "      <th>WeekStatus</th>\n",
       "      <th>Day_of_week</th>\n",
       "      <th>Load_Type</th>\n",
       "    </tr>\n",
       "  </thead>\n",
       "  <tbody>\n",
       "    <tr>\n",
       "      <th>count</th>\n",
       "      <td>35039.000000</td>\n",
       "      <td>35039.000000</td>\n",
       "      <td>35039.000000</td>\n",
       "      <td>35039.000000</td>\n",
       "      <td>35039.000000</td>\n",
       "      <td>35039.000000</td>\n",
       "      <td>35039.000000</td>\n",
       "      <td>35039.000000</td>\n",
       "      <td>35039.000000</td>\n",
       "      <td>35039.000000</td>\n",
       "    </tr>\n",
       "    <tr>\n",
       "      <th>mean</th>\n",
       "      <td>27.387674</td>\n",
       "      <td>13.035756</td>\n",
       "      <td>3.871059</td>\n",
       "      <td>0.011525</td>\n",
       "      <td>80.580356</td>\n",
       "      <td>84.370278</td>\n",
       "      <td>42751.220069</td>\n",
       "      <td>0.284940</td>\n",
       "      <td>3.991809</td>\n",
       "      <td>0.515740</td>\n",
       "    </tr>\n",
       "    <tr>\n",
       "      <th>std</th>\n",
       "      <td>33.444537</td>\n",
       "      <td>16.306084</td>\n",
       "      <td>7.424540</td>\n",
       "      <td>0.016151</td>\n",
       "      <td>18.916695</td>\n",
       "      <td>30.453634</td>\n",
       "      <td>24939.844508</td>\n",
       "      <td>0.451392</td>\n",
       "      <td>2.003455</td>\n",
       "      <td>0.499759</td>\n",
       "    </tr>\n",
       "    <tr>\n",
       "      <th>min</th>\n",
       "      <td>2.450000</td>\n",
       "      <td>0.000000</td>\n",
       "      <td>0.000000</td>\n",
       "      <td>0.000000</td>\n",
       "      <td>36.940000</td>\n",
       "      <td>12.500000</td>\n",
       "      <td>0.000000</td>\n",
       "      <td>0.000000</td>\n",
       "      <td>1.000000</td>\n",
       "      <td>0.000000</td>\n",
       "    </tr>\n",
       "    <tr>\n",
       "      <th>25%</th>\n",
       "      <td>3.200000</td>\n",
       "      <td>2.300000</td>\n",
       "      <td>0.000000</td>\n",
       "      <td>0.000000</td>\n",
       "      <td>63.320000</td>\n",
       "      <td>99.700000</td>\n",
       "      <td>21600.000000</td>\n",
       "      <td>0.000000</td>\n",
       "      <td>2.000000</td>\n",
       "      <td>0.000000</td>\n",
       "    </tr>\n",
       "    <tr>\n",
       "      <th>50%</th>\n",
       "      <td>4.570000</td>\n",
       "      <td>5.000000</td>\n",
       "      <td>0.000000</td>\n",
       "      <td>0.000000</td>\n",
       "      <td>87.960000</td>\n",
       "      <td>100.000000</td>\n",
       "      <td>43200.000000</td>\n",
       "      <td>0.000000</td>\n",
       "      <td>4.000000</td>\n",
       "      <td>1.000000</td>\n",
       "    </tr>\n",
       "    <tr>\n",
       "      <th>75%</th>\n",
       "      <td>51.245000</td>\n",
       "      <td>22.640000</td>\n",
       "      <td>2.090000</td>\n",
       "      <td>0.020000</td>\n",
       "      <td>99.025000</td>\n",
       "      <td>100.000000</td>\n",
       "      <td>64350.000000</td>\n",
       "      <td>1.000000</td>\n",
       "      <td>6.000000</td>\n",
       "      <td>1.000000</td>\n",
       "    </tr>\n",
       "    <tr>\n",
       "      <th>max</th>\n",
       "      <td>157.180000</td>\n",
       "      <td>96.910000</td>\n",
       "      <td>27.760000</td>\n",
       "      <td>0.070000</td>\n",
       "      <td>100.000000</td>\n",
       "      <td>100.000000</td>\n",
       "      <td>85500.000000</td>\n",
       "      <td>1.000000</td>\n",
       "      <td>7.000000</td>\n",
       "      <td>1.000000</td>\n",
       "    </tr>\n",
       "  </tbody>\n",
       "</table>\n",
       "</div>"
      ],
      "text/plain": [
       "          Usage_kWh  Lagging_Current_Reactive.Power_kVarh  \\\n",
       "count  35039.000000                          35039.000000   \n",
       "mean      27.387674                             13.035756   \n",
       "std       33.444537                             16.306084   \n",
       "min        2.450000                              0.000000   \n",
       "25%        3.200000                              2.300000   \n",
       "50%        4.570000                              5.000000   \n",
       "75%       51.245000                             22.640000   \n",
       "max      157.180000                             96.910000   \n",
       "\n",
       "       Leading_Current_Reactive_Power_kVarh     CO2(tCO2)  \\\n",
       "count                          35039.000000  35039.000000   \n",
       "mean                               3.871059      0.011525   \n",
       "std                                7.424540      0.016151   \n",
       "min                                0.000000      0.000000   \n",
       "25%                                0.000000      0.000000   \n",
       "50%                                0.000000      0.000000   \n",
       "75%                                2.090000      0.020000   \n",
       "max                               27.760000      0.070000   \n",
       "\n",
       "       Lagging_Current_Power_Factor  Leading_Current_Power_Factor  \\\n",
       "count                  35039.000000                  35039.000000   \n",
       "mean                      80.580356                     84.370278   \n",
       "std                       18.916695                     30.453634   \n",
       "min                       36.940000                     12.500000   \n",
       "25%                       63.320000                     99.700000   \n",
       "50%                       87.960000                    100.000000   \n",
       "75%                       99.025000                    100.000000   \n",
       "max                      100.000000                    100.000000   \n",
       "\n",
       "                NSM    WeekStatus   Day_of_week     Load_Type  \n",
       "count  35039.000000  35039.000000  35039.000000  35039.000000  \n",
       "mean   42751.220069      0.284940      3.991809      0.515740  \n",
       "std    24939.844508      0.451392      2.003455      0.499759  \n",
       "min        0.000000      0.000000      1.000000      0.000000  \n",
       "25%    21600.000000      0.000000      2.000000      0.000000  \n",
       "50%    43200.000000      0.000000      4.000000      1.000000  \n",
       "75%    64350.000000      1.000000      6.000000      1.000000  \n",
       "max    85500.000000      1.000000      7.000000      1.000000  "
      ]
     },
     "execution_count": 30,
     "metadata": {},
     "output_type": "execute_result"
    }
   ],
   "source": [
    "data = data[data['Usage_kWh'] != 0]\n",
    "\n",
    "data.describe()"
   ]
  },
  {
   "cell_type": "code",
   "execution_count": 31,
   "metadata": {},
   "outputs": [
    {
     "name": "stdout",
     "output_type": "stream",
     "text": [
      "0.9780123779959484\n",
      "0.9780123779959484\n",
      "0.9780123779959484\n"
     ]
    }
   ],
   "source": [
    "temp = data.loc[:, data.columns != 'Usage_kWh']\n",
    "features, target = temp.loc[:, temp.columns != 'date'], data['Usage_kWh']\n",
    "features_train, features_test, target_train, target_test = train_test_split(features, target, random_state=0)\n",
    "scaler = RobustScaler()\n",
    "features_train = scaler.fit_transform(features_train)\n",
    "features_test = scaler.transform(features_test)\n",
    "model = LinearRegression()\n",
    "model.fit(features_train, target_train)\n",
    "robust_score = model.score(features_test, target_test)\n",
    "\n",
    "scaler = MinMaxScaler()\n",
    "X_train = scaler.fit_transform(features_train)\n",
    "X_test = scaler.transform(features_test)\n",
    "model = LinearRegression()\n",
    "model.fit(features_train, target_train)\n",
    "minmax_score = model.score(features_test, target_test)\n",
    "\n",
    "scaler = StandardScaler()\n",
    "features_train = scaler.fit_transform(features_train)\n",
    "features_test = scaler.transform(features_test)\n",
    "model = LinearRegression()\n",
    "model.fit(features_train, target_train)\n",
    "standard_score = model.score(features_test, target_test)\n",
    "print(robust_score)\n",
    "print(minmax_score)\n",
    "print(standard_score)\n",
    "\n",
    "nof_list=np.arange(1,9)\n",
    "high_score=0"
   ]
  },
  {
   "cell_type": "markdown",
   "metadata": {},
   "source": [
    "<h3>Linear Regression</h3>"
   ]
  },
  {
   "attachments": {},
   "cell_type": "markdown",
   "metadata": {},
   "source": [
    "Grid and Random Search for hyperparameters"
   ]
  },
  {
   "cell_type": "code",
   "execution_count": 1,
   "metadata": {},
   "outputs": [
    {
     "ename": "NameError",
     "evalue": "name 'data' is not defined",
     "output_type": "error",
     "traceback": [
      "\u001b[1;31m---------------------------------------------------------------------------\u001b[0m",
      "\u001b[1;31mNameError\u001b[0m                                 Traceback (most recent call last)",
      "Cell \u001b[1;32mIn [1], line 1\u001b[0m\n\u001b[1;32m----> 1\u001b[0m data \u001b[39m=\u001b[39m data\u001b[39m.\u001b[39mloc[:, data\u001b[39m.\u001b[39mcolumns \u001b[39m!=\u001b[39m \u001b[39m'\u001b[39m\u001b[39mdate\u001b[39m\u001b[39m'\u001b[39m]\n\u001b[0;32m      2\u001b[0m features, target \u001b[39m=\u001b[39m data\u001b[39m.\u001b[39mloc[:, data\u001b[39m.\u001b[39mcolumns \u001b[39m!=\u001b[39m \u001b[39m'\u001b[39m\u001b[39mUsage_kWh\u001b[39m\u001b[39m'\u001b[39m], data[\u001b[39m'\u001b[39m\u001b[39mUsage_kWh\u001b[39m\u001b[39m'\u001b[39m]\n\u001b[0;32m      3\u001b[0m features_train, features_test, target_train, target_test \u001b[39m=\u001b[39m train_test_split(features, target, test_size\u001b[39m=\u001b[39m\u001b[39m0.3\u001b[39m, random_state\u001b[39m=\u001b[39m\u001b[39m0\u001b[39m)\n",
      "\u001b[1;31mNameError\u001b[0m: name 'data' is not defined"
     ]
    }
   ],
   "source": [
    "data = data.loc[:, data.columns != 'date']\n",
    "features, target = data.loc[:, data.columns != 'Usage_kWh'], data['Usage_kWh']\n",
    "features_train, features_test, target_train, target_test = train_test_split(features, target, test_size=0.3, random_state=0)\n",
    "\n",
    "model = LinearRegression()\n",
    "\n",
    "space = dict()\n",
    "space['fit_intercept'] = [True, False]\n",
    "\n",
    "grid_search = GridSearchCV(model, space, scoring='neg_mean_absolute_error', n_jobs=8, cv=10)\n",
    "randomized_search = RandomizedSearchCV(model, space, scoring='neg_mean_absolute_error')\n",
    "\n",
    "grid_result = grid_search.fit(features_train, target_train)\n",
    "randomized_result = randomized_search.fit(features_train, target_train)\n",
    "\n",
    "print('Grid Search - Best Score: %s' % grid_result.best_score_)\n",
    "print('Grid Search - Best Hyperparameters: %s' % grid_result.best_params_)\n",
    "print('Randomized Search - Best Score: %s' % randomized_result.best_score_)\n",
    "print('Randomized Search - Best Hyperparameters: %s' % randomized_result.best_params_)"
   ]
  },
  {
   "cell_type": "markdown",
   "metadata": {},
   "source": [
    "RFE Method for feature selection"
   ]
  },
  {
   "cell_type": "code",
   "execution_count": 33,
   "metadata": {},
   "outputs": [
    {
     "name": "stdout",
     "output_type": "stream",
     "text": [
      "Optimum number of features: 8\n",
      "Score with 8 features: 0.978820\n"
     ]
    }
   ],
   "source": [
    "nof_list=np.arange(1,9)            \n",
    "high_score=0\n",
    "\n",
    "nof=0           \n",
    "score_list =[]\n",
    "for n in range(len(nof_list)):\n",
    "    features, target = data.loc[:, data.columns != 'Usage_kWh'], data['Usage_kWh']\n",
    "    features_train, features_test, target_train, target_test = train_test_split(features, target, test_size=0.3, random_state=0)\n",
    "\n",
    "    model = LinearRegression(fit_intercept=True)\n",
    "    rfe = RFE(estimator=model, n_features_to_select=nof_list[n])\n",
    "    features_train_rfe = rfe.fit_transform(features_train,target_train)\n",
    "    features_test_rfe = rfe.transform(features_test)\n",
    "    model.fit(features_train_rfe, target_train)\n",
    "    score = model.score(features_test_rfe, target_test)\n",
    "    score_list.append(score)\n",
    "    if(score>high_score):\n",
    "        high_score = score\n",
    "        nof = nof_list[n]\n",
    "print(\"Optimum number of features: %d\" %nof)\n",
    "print(\"Score with %d features: %f\" % (nof, high_score))"
   ]
  },
  {
   "cell_type": "code",
   "execution_count": 34,
   "metadata": {},
   "outputs": [
    {
     "name": "stdout",
     "output_type": "stream",
     "text": [
      "Index(['Lagging_Current_Reactive.Power_kVarh',\n",
      "       'Leading_Current_Reactive_Power_kVarh', 'CO2(tCO2)',\n",
      "       'Lagging_Current_Power_Factor', 'Leading_Current_Power_Factor',\n",
      "       'WeekStatus', 'Day_of_week', 'Load_Type'],\n",
      "      dtype='object')\n"
     ]
    }
   ],
   "source": [
    "features, target = data.loc[:, data.columns != 'Usage_kWh'], data['Usage_kWh']\n",
    "cols = list(features.columns)\n",
    "model = LinearRegression(fit_intercept=True)\n",
    "rfe = RFE(estimator=model, n_features_to_select=8)             \n",
    "features_rfe = rfe.fit_transform(features, target)  \n",
    "model.fit(features_rfe, target)              \n",
    "temp = pd.Series(rfe.support_,index = cols)\n",
    "selected_features_rfe = temp[temp==True].index\n",
    "print(selected_features_rfe)"
   ]
  },
  {
   "cell_type": "markdown",
   "metadata": {},
   "source": [
    "Testing model with hyperparameters and selected features"
   ]
  },
  {
   "cell_type": "code",
   "execution_count": 64,
   "metadata": {},
   "outputs": [
    {
     "name": "stdout",
     "output_type": "stream",
     "text": [
      "The train score for LR model is 0.9810272405473877\n",
      "The test score for LR model is 0.9788200200133501\n"
     ]
    }
   ],
   "source": [
    "features, target = data.loc[:, data.columns != 'Usage_kWh'], data['Usage_kWh']\n",
    "features = features.loc[:, features.columns != 'NSM']\n",
    "features_train, features_test, target_train, target_test = train_test_split(features, target, test_size=0.3, random_state=0)\n",
    "model = LinearRegression(fit_intercept=True)\n",
    "model.fit(features_train, target_train)\n",
    "\n",
    "train_score = model.score(features_train, target_train)\n",
    "test_score = model.score(features_test, target_test)\n",
    "\n",
    "print(\"The train score for LR model is {}\".format(train_score))\n",
    "print(\"The test score for LR model is {}\".format(test_score))"
   ]
  },
  {
   "cell_type": "markdown",
   "metadata": {},
   "source": [
    "<h3>Ridge Regression</h3>"
   ]
  },
  {
   "cell_type": "markdown",
   "metadata": {},
   "source": [
    "Grid Search for hyperparameters"
   ]
  },
  {
   "cell_type": "code",
   "execution_count": 50,
   "metadata": {},
   "outputs": [
    {
     "name": "stdout",
     "output_type": "stream",
     "text": [
      "Grid Search - Best Score: -2.531149694087877\n",
      "Grid Search - Best Hyperparameters: {'alpha': 0.0001, 'fit_intercept': True, 'solver': 'svd'}\n",
      "Randomized Search - Best Score: -2.533612484070061\n",
      "Randomized Search - Best Hyperparameters: {'solver': 'svd', 'fit_intercept': True, 'alpha': 0.001}\n"
     ]
    }
   ],
   "source": [
    "data = data.loc[:, data.columns != 'date']\n",
    "features, target = data.loc[:, data.columns != 'Usage_kWh'], data['Usage_kWh']\n",
    "features_train, features_test, target_train, target_test = train_test_split(features, target, test_size=0.3, random_state=0)\n",
    "\n",
    "model = Ridge()\n",
    "\n",
    "space = dict()\n",
    "space['solver'] = ['svd', 'lsqr', 'sag']\n",
    "space['alpha'] = [0.0001, 0.001, 0.01, 0.1, 1, 10]\n",
    "space['fit_intercept'] = [True, False]\n",
    "\n",
    "grid_search = GridSearchCV(model, space, scoring='neg_mean_absolute_error', n_jobs=8, cv=10)\n",
    "randomized_search = RandomizedSearchCV(model, space, scoring='neg_mean_absolute_error', n_jobs=8, cv=10)\n",
    "\n",
    "grid_result = grid_search.fit(features_train, target_train)\n",
    "randomized_result = randomized_search.fit(features_train, target_train)\n",
    "\n",
    "print('Grid Search - Best Score: %s' % grid_result.best_score_)\n",
    "print('Grid Search - Best Hyperparameters: %s' % grid_result.best_params_)\n",
    "print('Randomized Search - Best Score: %s' % randomized_result.best_score_)\n",
    "print('Randomized Search - Best Hyperparameters: %s' % randomized_result.best_params_)"
   ]
  },
  {
   "cell_type": "markdown",
   "metadata": {},
   "source": [
    "RFE Method for feature selection"
   ]
  },
  {
   "cell_type": "code",
   "execution_count": 37,
   "metadata": {},
   "outputs": [
    {
     "name": "stdout",
     "output_type": "stream",
     "text": [
      "Optimum number of features: 8\n",
      "Score with 8 features: 0.978820\n"
     ]
    }
   ],
   "source": [
    "nof_list=np.arange(1,9)            \n",
    "high_score=0\n",
    "\n",
    "nof=0           \n",
    "score_list =[]\n",
    "for n in range(len(nof_list)):\n",
    "    features, target = data.loc[:, data.columns != 'Usage_kWh'], data['Usage_kWh']\n",
    "    features_train, features_test, target_train, target_test = train_test_split(features, target, test_size=0.3, random_state=0)\n",
    "\n",
    "    model = Ridge(alpha=0.0001, fit_intercept=True, solver='svd')\n",
    "    rfe = RFE(estimator=model, n_features_to_select=nof_list[n])\n",
    "    features_train_rfe = rfe.fit_transform(features_train,target_train)\n",
    "    features_test_rfe = rfe.transform(features_test)\n",
    "    model.fit(features_train_rfe, target_train)\n",
    "    score = model.score(features_test_rfe, target_test)\n",
    "    score_list.append(score)\n",
    "    if(score>high_score):\n",
    "        high_score = score\n",
    "        nof = nof_list[n]\n",
    "print(\"Optimum number of features: %d\" %nof)\n",
    "print(\"Score with %d features: %f\" % (nof, high_score))"
   ]
  },
  {
   "cell_type": "code",
   "execution_count": 38,
   "metadata": {},
   "outputs": [
    {
     "name": "stdout",
     "output_type": "stream",
     "text": [
      "Index(['Lagging_Current_Reactive.Power_kVarh',\n",
      "       'Leading_Current_Reactive_Power_kVarh', 'CO2(tCO2)',\n",
      "       'Lagging_Current_Power_Factor', 'Leading_Current_Power_Factor',\n",
      "       'WeekStatus', 'Day_of_week', 'Load_Type'],\n",
      "      dtype='object')\n"
     ]
    }
   ],
   "source": [
    "features, target = data.loc[:, data.columns != 'Usage_kWh'], data['Usage_kWh']\n",
    "cols = list(features.columns)\n",
    "model = Ridge(alpha=0.0001, fit_intercept=True, solver='svd')\n",
    "rfe = RFE(estimator=model, n_features_to_select=8)             \n",
    "features_rfe = rfe.fit_transform(features, target)  \n",
    "model.fit(features_rfe, target)              \n",
    "temp = pd.Series(rfe.support_,index = cols)\n",
    "selected_features_rfe = temp[temp==True].index\n",
    "print(selected_features_rfe)"
   ]
  },
  {
   "cell_type": "markdown",
   "metadata": {},
   "source": [
    "Testing model with hyperparameters and selected features"
   ]
  },
  {
   "cell_type": "code",
   "execution_count": 53,
   "metadata": {},
   "outputs": [
    {
     "name": "stdout",
     "output_type": "stream",
     "text": [
      "The train score for ridge model (alpha=0.0001) is 0.9810272389259523\n",
      "The test score for ridge model (alpha=0.0001) is 0.9788204516050687\n",
      "The train score for ridge model (alpha=0.001) is 0.9810270788683053\n",
      "The test score for ridge model (alpha=0.001) is 0.9788241815333608\n"
     ]
    }
   ],
   "source": [
    "features, target = data.loc[:, data.columns != 'Usage_kWh'], data['Usage_kWh']\n",
    "features = features.loc[:, features.columns != 'NSM']\n",
    "features_train, features_test, target_train, target_test = train_test_split(features, target, test_size=0.3, random_state=0)\n",
    "model =  Ridge(alpha=0.0001, fit_intercept=True, solver='svd')\n",
    "model.fit(features_train, target_train)\n",
    "\n",
    "train_score = model.score(features_train, target_train)\n",
    "test_score = model.score(features_test, target_test)\n",
    "\n",
    "print(\"The train score for ridge model (alpha=0.0001) is {}\".format(train_score))\n",
    "print(\"The test score for ridge model (alpha=0.0001) is {}\".format(test_score))\n",
    "\n",
    "model =  Ridge(alpha=0.001, fit_intercept=True, solver='svd')\n",
    "model.fit(features_train, target_train)\n",
    "\n",
    "train_score = model.score(features_train, target_train)\n",
    "test_score = model.score(features_test, target_test)\n",
    "\n",
    "print(\"The train score for ridge model (alpha=0.001) is {}\".format(train_score))\n",
    "print(\"The test score for ridge model (alpha=0.001) is {}\".format(test_score))"
   ]
  },
  {
   "cell_type": "markdown",
   "metadata": {},
   "source": [
    "<h3>Lasso Regression</h3>"
   ]
  },
  {
   "cell_type": "markdown",
   "metadata": {},
   "source": [
    "Grid Search for hyperparameters"
   ]
  },
  {
   "cell_type": "code",
   "execution_count": 54,
   "metadata": {},
   "outputs": [
    {
     "name": "stdout",
     "output_type": "stream",
     "text": [
      "Grid Search - Best Score: -2.5344333564492594\n",
      "Grid Search - Best Hyperparameters: {'alpha': 0.0001, 'fit_intercept': True}\n",
      "Randomized Search - Best Score: -2.5344333564492594\n",
      "Randomized Search - Best Hyperparameters: {'fit_intercept': True, 'alpha': 0.0001}\n"
     ]
    }
   ],
   "source": [
    "features, target = data.loc[:, data.columns != 'Usage_kWh'], data['Usage_kWh']\n",
    "features_train, features_test, target_train, target_test = train_test_split(features, target, test_size=0.3, random_state=0)\n",
    "\n",
    "model = Lasso()\n",
    "\n",
    "space = dict()\n",
    "space['alpha'] = [0.0001, 0.001, 0.01, 0.1, 1, 10]\n",
    "space['fit_intercept'] = [True, False]\n",
    "\n",
    "grid_search = GridSearchCV(model, space, scoring='neg_mean_absolute_error', n_jobs=8, cv=10)\n",
    "randomized_search = RandomizedSearchCV(model, space, scoring='neg_mean_absolute_error', n_jobs=8, cv=10)\n",
    "\n",
    "grid_result = grid_search.fit(features_train, target_train)\n",
    "randomized_result = randomized_search.fit(features_train, target_train)\n",
    "\n",
    "print('Grid Search - Best Score: %s' % grid_result.best_score_)\n",
    "print('Grid Search - Best Hyperparameters: %s' % grid_result.best_params_)\n",
    "print('Randomized Search - Best Score: %s' % randomized_result.best_score_)\n",
    "print('Randomized Search - Best Hyperparameters: %s' % randomized_result.best_params_)"
   ]
  },
  {
   "cell_type": "markdown",
   "metadata": {},
   "source": [
    "RFE Method for feature selection"
   ]
  },
  {
   "cell_type": "code",
   "execution_count": 41,
   "metadata": {},
   "outputs": [
    {
     "name": "stdout",
     "output_type": "stream",
     "text": [
      "Optimum number of features: 8\n",
      "Score with 8 features: 0.978826\n"
     ]
    }
   ],
   "source": [
    "nof_list=np.arange(1,9)            \n",
    "high_score=0\n",
    "\n",
    "nof=0           \n",
    "score_list =[]\n",
    "for n in range(len(nof_list)):\n",
    "    features, target = data.loc[:, data.columns != 'Usage_kWh'], data['Usage_kWh']\n",
    "    features_train, features_test, target_train, target_test = train_test_split(features, target, test_size=0.3, random_state=0)\n",
    "\n",
    "    model = Lasso(alpha=0.0001, fit_intercept=True)\n",
    "    rfe = RFE(estimator=model, n_features_to_select=nof_list[n])\n",
    "    features_train_rfe = rfe.fit_transform(features_train,target_train)\n",
    "    features_test_rfe = rfe.transform(features_test)\n",
    "    model.fit(features_train_rfe, target_train)\n",
    "    score = model.score(features_test_rfe, target_test)\n",
    "    score_list.append(score)\n",
    "    if(score>high_score):\n",
    "        high_score = score\n",
    "        nof = nof_list[n]\n",
    "print(\"Optimum number of features: %d\" %nof)\n",
    "print(\"Score with %d features: %f\" % (nof, high_score))"
   ]
  },
  {
   "cell_type": "code",
   "execution_count": 42,
   "metadata": {},
   "outputs": [
    {
     "name": "stdout",
     "output_type": "stream",
     "text": [
      "Index(['Lagging_Current_Reactive.Power_kVarh',\n",
      "       'Leading_Current_Reactive_Power_kVarh', 'CO2(tCO2)',\n",
      "       'Lagging_Current_Power_Factor', 'Leading_Current_Power_Factor',\n",
      "       'WeekStatus', 'Day_of_week', 'Load_Type'],\n",
      "      dtype='object')\n"
     ]
    }
   ],
   "source": [
    "features, target = data.loc[:, data.columns != 'Usage_kWh'], data['Usage_kWh']\n",
    "cols = list(features.columns)\n",
    "model = Lasso(alpha=0.0001, fit_intercept=True)\n",
    "rfe = RFE(estimator=model, n_features_to_select=8)             \n",
    "features_rfe = rfe.fit_transform(features, target)  \n",
    "model.fit(features_rfe, target)              \n",
    "temp = pd.Series(rfe.support_,index = cols)\n",
    "selected_features_rfe = temp[temp==True].index\n",
    "print(selected_features_rfe)"
   ]
  },
  {
   "cell_type": "markdown",
   "metadata": {},
   "source": [
    "Testing model with hyperparameters and selected features"
   ]
  },
  {
   "cell_type": "code",
   "execution_count": 43,
   "metadata": {},
   "outputs": [
    {
     "name": "stdout",
     "output_type": "stream",
     "text": [
      "The train score for ridge model is 0.9810268960946551\n",
      "The test score for ridge model is 0.9788259551480127\n"
     ]
    }
   ],
   "source": [
    "features, target = data.loc[:, data.columns != 'Usage_kWh'], data['Usage_kWh']\n",
    "features = features.loc[:, features.columns != 'NSM']\n",
    "features_train, features_test, target_train, target_test = train_test_split(features, target, test_size=0.3, random_state=0)\n",
    "model = Lasso(alpha=0.0001, fit_intercept=True)\n",
    "model.fit(features_train, target_train)\n",
    "\n",
    "train_score = model.score(features_train, target_train)\n",
    "test_score = model.score(features_test, target_test)\n",
    "\n",
    "print(\"The train score for ridge model is {}\".format(train_score))\n",
    "print(\"The test score for ridge model is {}\".format(test_score))"
   ]
  },
  {
   "cell_type": "markdown",
   "metadata": {},
   "source": [
    "<h3>ElasticNet</h3>"
   ]
  },
  {
   "cell_type": "markdown",
   "metadata": {},
   "source": [
    "Grid Search for hyperparameters"
   ]
  },
  {
   "cell_type": "code",
   "execution_count": 55,
   "metadata": {},
   "outputs": [
    {
     "name": "stdout",
     "output_type": "stream",
     "text": [
      "Grid Search - Best Score: -5.1159282974895754\n",
      "Grid Search - Best Hyperparameters: {'alpha': 0.0001, 'fit_intercept': False}\n",
      "Randomized Search - Best Score: -5.1159282974895754\n",
      "Randomized Search - Best Hyperparameters: {'fit_intercept': False, 'alpha': 0.0001}\n"
     ]
    }
   ],
   "source": [
    "features, target = data.loc[:, data.columns != 'Usage_kWh'], data['Usage_kWh']\n",
    "features_train, features_test, target_train, target_test = train_test_split(features, target, test_size=0.3, random_state=0)\n",
    "\n",
    "model = ElasticNet()\n",
    "\n",
    "space = dict()\n",
    "space['alpha'] = [0.0001, 0.001, 0.01, 0.1, 1, 10]\n",
    "space['fit_intercept'] = [True, False]\n",
    "\n",
    "grid_search = GridSearchCV(model, space, scoring='neg_mean_absolute_error', n_jobs=8, cv=10)\n",
    "randomized_search = RandomizedSearchCV(model, space, scoring='neg_mean_absolute_error', n_jobs=8, cv=10)\n",
    "\n",
    "grid_result = grid_search.fit(features_train, target_train)\n",
    "randomized_result = randomized_search.fit(features_train, target_train)\n",
    "\n",
    "print('Grid Search - Best Score: %s' % grid_result.best_score_)\n",
    "print('Grid Search - Best Hyperparameters: %s' % grid_result.best_params_)\n",
    "print('Randomized Search - Best Score: %s' % randomized_result.best_score_)\n",
    "print('Randomized Search - Best Hyperparameters: %s' % randomized_result.best_params_)"
   ]
  },
  {
   "cell_type": "markdown",
   "metadata": {},
   "source": [
    "RFE Method for feature selection"
   ]
  },
  {
   "cell_type": "code",
   "execution_count": 45,
   "metadata": {},
   "outputs": [
    {
     "name": "stdout",
     "output_type": "stream",
     "text": [
      "Optimum number of features: 8\n",
      "Score with 8 features: 0.952148\n"
     ]
    }
   ],
   "source": [
    "nof_list=np.arange(1,9)            \n",
    "high_score=0\n",
    "\n",
    "nof=0           \n",
    "score_list =[]\n",
    "for n in range(len(nof_list)):\n",
    "    features, target = data.loc[:, data.columns != 'Usage_kWh'], data['Usage_kWh']\n",
    "    features_train, features_test, target_train, target_test = train_test_split(features, target, test_size=0.3, random_state=0)\n",
    "\n",
    "    model = ElasticNet(alpha=0.0001, fit_intercept=True)\n",
    "    rfe = RFE(estimator=model, n_features_to_select=nof_list[n])\n",
    "    features_train_rfe = rfe.fit_transform(features_train,target_train)\n",
    "    features_test_rfe = rfe.transform(features_test)\n",
    "    model.fit(features_train_rfe, target_train)\n",
    "    score = model.score(features_test_rfe, target_test)\n",
    "    score_list.append(score)\n",
    "    if(score>high_score):\n",
    "        high_score = score\n",
    "        nof = nof_list[n]\n",
    "print(\"Optimum number of features: %d\" %nof)\n",
    "print(\"Score with %d features: %f\" % (nof, high_score))"
   ]
  },
  {
   "cell_type": "code",
   "execution_count": 46,
   "metadata": {},
   "outputs": [
    {
     "name": "stdout",
     "output_type": "stream",
     "text": [
      "Index(['Lagging_Current_Reactive.Power_kVarh',\n",
      "       'Leading_Current_Reactive_Power_kVarh', 'CO2(tCO2)',\n",
      "       'Lagging_Current_Power_Factor', 'Leading_Current_Power_Factor',\n",
      "       'WeekStatus', 'Day_of_week', 'Load_Type'],\n",
      "      dtype='object')\n"
     ]
    }
   ],
   "source": [
    "features, target = data.loc[:, data.columns != 'Usage_kWh'], data['Usage_kWh']\n",
    "cols = list(features.columns)\n",
    "model = ElasticNet(alpha=0.0001, fit_intercept=True)\n",
    "rfe = RFE(estimator=model, n_features_to_select=8)             \n",
    "features_rfe = rfe.fit_transform(features, target)  \n",
    "model.fit(features_rfe, target)              \n",
    "temp = pd.Series(rfe.support_,index = cols)\n",
    "selected_features_rfe = temp[temp==True].index\n",
    "print(selected_features_rfe)"
   ]
  },
  {
   "cell_type": "markdown",
   "metadata": {},
   "source": [
    "Testing model with hyperparameters and selected features"
   ]
  },
  {
   "cell_type": "code",
   "execution_count": 62,
   "metadata": {},
   "outputs": [
    {
     "name": "stdout",
     "output_type": "stream",
     "text": [
      "The train score for Elastic Net model is 0.9530794146010894\n",
      "The test score for Elastic Net model is 0.9521478725133723\n"
     ]
    }
   ],
   "source": [
    "features, target = data.loc[:, data.columns != 'Usage_kWh'], data['Usage_kWh']\n",
    "features = features.loc[:, features.columns != 'NSM']\n",
    "features_train, features_test, target_train, target_test = train_test_split(features, target, test_size=0.3, random_state=0)\n",
    "model = ElasticNet(alpha=0.0001, fit_intercept=True)\n",
    "model.fit(features_train, target_train)\n",
    "\n",
    "train_score = model.score(features_train, target_train)\n",
    "test_score = model.score(features_test, target_test)\n",
    "\n",
    "print(\"The train score for Elastic Net model is {}\".format(train_score))\n",
    "print(\"The test score for Elastic Net model is {}\".format(test_score))"
   ]
  },
  {
   "cell_type": "markdown",
   "metadata": {},
   "source": [
    "<h3>LinearSVR</h3>\n",
    "<h4>with StandardScaler</h4>"
   ]
  },
  {
   "cell_type": "markdown",
   "metadata": {},
   "source": [
    "Grid Search for hyperparameters"
   ]
  },
  {
   "cell_type": "code",
   "execution_count": 56,
   "metadata": {},
   "outputs": [
    {
     "name": "stderr",
     "output_type": "stream",
     "text": [
      "d:\\master\\ML\\Projekat1\\venv\\lib\\site-packages\\sklearn\\model_selection\\_search.py:306: UserWarning: The total space of parameters 8 is smaller than n_iter=10. Running 8 iterations. For exhaustive searches, use GridSearchCV.\n",
      "  warnings.warn(\n"
     ]
    },
    {
     "name": "stdout",
     "output_type": "stream",
     "text": [
      "Grid Search - Best Score: -2.376717575365778\n",
      "Grid Search - Best Hyperparameters: {'C': 1, 'fit_intercept': True}\n",
      "Randomized Search - Best Score: -2.376900691539457\n",
      "Randomized Search - Best Hyperparameters: {'fit_intercept': True, 'C': 1}\n"
     ]
    }
   ],
   "source": [
    "features, target = data.loc[:, data.columns != 'Usage_kWh'], data['Usage_kWh']\n",
    "features_train, features_test, target_train, target_test = train_test_split(features, target, test_size=0.3, random_state=0)\n",
    "\n",
    "scaler = StandardScaler()\n",
    "features_train = scaler.fit_transform(features_train)\n",
    "\n",
    "model = LinearSVR()\n",
    "\n",
    "space = dict()\n",
    "space['C'] = [0.1, 1, 10, 100]\n",
    "space['fit_intercept'] = [True, False]\n",
    "\n",
    "grid_search = GridSearchCV(model, space, scoring='neg_mean_absolute_error', n_jobs=8, cv=10)\n",
    "randomized_search = RandomizedSearchCV(model, space, scoring='neg_mean_absolute_error', n_jobs=8, cv=10)\n",
    "\n",
    "grid_result = grid_search.fit(features_train, target_train)\n",
    "randomized_result = randomized_search.fit(features_train, target_train)\n",
    "\n",
    "print('Grid Search - Best Score: %s' % grid_result.best_score_)\n",
    "print('Grid Search - Best Hyperparameters: %s' % grid_result.best_params_)\n",
    "print('Randomized Search - Best Score: %s' % randomized_result.best_score_)\n",
    "print('Randomized Search - Best Hyperparameters: %s' % randomized_result.best_params_)"
   ]
  },
  {
   "cell_type": "markdown",
   "metadata": {},
   "source": [
    "RFE Method for feature selection"
   ]
  },
  {
   "cell_type": "code",
   "execution_count": 57,
   "metadata": {},
   "outputs": [
    {
     "name": "stdout",
     "output_type": "stream",
     "text": [
      "Optimum number of features: 7\n",
      "Score with 7 features: 0.978251\n"
     ]
    }
   ],
   "source": [
    "nof_list=np.arange(1,9)            \n",
    "high_score=0\n",
    "\n",
    "nof=0           \n",
    "score_list =[]\n",
    "for n in range(len(nof_list)):\n",
    "    features, target = data.loc[:, data.columns != 'Usage_kWh'], data['Usage_kWh']\n",
    "    features_train, features_test, target_train, target_test = train_test_split(features, target, test_size=0.3, random_state=0)\n",
    "\n",
    "    scaler = StandardScaler()\n",
    "    features_train = scaler.fit_transform(features_train)\n",
    "    features_test = scaler.transform(features_test)\n",
    "    \n",
    "    model = LinearSVR(C=1, fit_intercept=True)\n",
    "    rfe = RFE(estimator=model, n_features_to_select=nof_list[n])\n",
    "    features_train_rfe = rfe.fit_transform(features_train,target_train)\n",
    "    features_test_rfe = rfe.transform(features_test)\n",
    "    model.fit(features_train_rfe, target_train)\n",
    "    score = model.score(features_test_rfe, target_test)\n",
    "    score_list.append(score)\n",
    "    if(score>high_score):\n",
    "        high_score = score\n",
    "        nof = nof_list[n]\n",
    "print(\"Optimum number of features: %d\" %nof)\n",
    "print(\"Score with %d features: %f\" % (nof, high_score))"
   ]
  },
  {
   "cell_type": "code",
   "execution_count": 58,
   "metadata": {},
   "outputs": [
    {
     "name": "stdout",
     "output_type": "stream",
     "text": [
      "Index(['Lagging_Current_Reactive.Power_kVarh',\n",
      "       'Leading_Current_Reactive_Power_kVarh', 'CO2(tCO2)',\n",
      "       'Lagging_Current_Power_Factor', 'Leading_Current_Power_Factor',\n",
      "       'WeekStatus', 'Load_Type'],\n",
      "      dtype='object')\n"
     ]
    }
   ],
   "source": [
    "features, target = data.loc[:, data.columns != 'Usage_kWh'], data['Usage_kWh']\n",
    "cols = list(features.columns)\n",
    "scaler = StandardScaler()\n",
    "features = scaler.fit_transform(features)\n",
    "model = LinearSVR(C=1, fit_intercept=True)\n",
    "rfe = RFE(estimator=model, n_features_to_select=7)             \n",
    "features_rfe = rfe.fit_transform(features, target)  \n",
    "model.fit(features_rfe, target)              \n",
    "temp = pd.Series(rfe.support_,index = cols)\n",
    "selected_features_rfe = temp[temp==True].index\n",
    "print(selected_features_rfe)"
   ]
  },
  {
   "cell_type": "markdown",
   "metadata": {},
   "source": [
    "Testing model with hyperparameters and selected features"
   ]
  },
  {
   "cell_type": "code",
   "execution_count": 63,
   "metadata": {},
   "outputs": [
    {
     "name": "stdout",
     "output_type": "stream",
     "text": [
      "The train score for Linear SVR model is 0.9806199833198888\n",
      "The test score for Linear SVR model is 0.9782499835724059\n"
     ]
    }
   ],
   "source": [
    "features, target = data.loc[:, data.columns != 'Usage_kWh'], data['Usage_kWh']\n",
    "features = features.loc[:, features.columns != 'NSM']\n",
    "features = features.loc[:, features.columns != 'Day_of_week']\n",
    "features_train, features_test, target_train, target_test = train_test_split(features, target, test_size=0.3, random_state=0)\n",
    "scaler = StandardScaler()\n",
    "features_train = scaler.fit_transform(features_train)\n",
    "features_test = scaler.transform(features_test)\n",
    "model = LinearSVR(C=1, fit_intercept=True)\n",
    "model.fit(features_train, target_train)\n",
    "\n",
    "train_score = model.score(features_train, target_train)\n",
    "test_score = model.score(features_test, target_test)\n",
    "\n",
    "print(\"The train score for Linear SVR model is {}\".format(train_score))\n",
    "print(\"The test score for Linear SVR model is {}\".format(test_score))"
   ]
  },
  {
   "cell_type": "markdown",
   "metadata": {},
   "source": [
    "<h3>LinearSVR</h3>\n",
    "<h4>with MinMaxScaler</h4>"
   ]
  },
  {
   "cell_type": "markdown",
   "metadata": {},
   "source": [
    "Grid Search for hyperparameters"
   ]
  },
  {
   "cell_type": "code",
   "execution_count": 59,
   "metadata": {},
   "outputs": [
    {
     "name": "stderr",
     "output_type": "stream",
     "text": [
      "d:\\master\\ML\\Projekat1\\venv\\lib\\site-packages\\sklearn\\svm\\_base.py:1225: ConvergenceWarning: Liblinear failed to converge, increase the number of iterations.\n",
      "  warnings.warn(\n",
      "d:\\master\\ML\\Projekat1\\venv\\lib\\site-packages\\sklearn\\model_selection\\_search.py:306: UserWarning: The total space of parameters 8 is smaller than n_iter=10. Running 8 iterations. For exhaustive searches, use GridSearchCV.\n",
      "  warnings.warn(\n"
     ]
    },
    {
     "name": "stdout",
     "output_type": "stream",
     "text": [
      "Grid Search - Best Score: -2.377306409661427\n",
      "Grid Search - Best Hyperparameters: {'C': 10, 'fit_intercept': True}\n",
      "Randomized Search - Best Score: -2.37785685258044\n",
      "Randomized Search - Best Hyperparameters: {'fit_intercept': True, 'C': 10}\n"
     ]
    },
    {
     "name": "stderr",
     "output_type": "stream",
     "text": [
      "d:\\master\\ML\\Projekat1\\venv\\lib\\site-packages\\sklearn\\svm\\_base.py:1225: ConvergenceWarning: Liblinear failed to converge, increase the number of iterations.\n",
      "  warnings.warn(\n"
     ]
    }
   ],
   "source": [
    "features, target = data.loc[:, data.columns != 'Usage_kWh'], data['Usage_kWh']\n",
    "features_train, features_test, target_train, target_test = train_test_split(features, target, test_size=0.3, random_state=0)\n",
    "\n",
    "scaler = MinMaxScaler()\n",
    "features_train = scaler.fit_transform(features_train)\n",
    "\n",
    "model = LinearSVR()\n",
    "\n",
    "space = dict()\n",
    "space['C'] = [0.1, 1, 10, 100]\n",
    "space['fit_intercept'] = [True, False]\n",
    "\n",
    "grid_search = GridSearchCV(model, space, scoring='neg_mean_absolute_error', n_jobs=8, cv=10)\n",
    "randomized_search = RandomizedSearchCV(model, space, scoring='neg_mean_absolute_error', n_jobs=8, cv=10)\n",
    "\n",
    "grid_result = grid_search.fit(features_train, target_train)\n",
    "randomized_result = randomized_search.fit(features_train, target_train)\n",
    "\n",
    "print('Grid Search - Best Score: %s' % grid_result.best_score_)\n",
    "print('Grid Search - Best Hyperparameters: %s' % grid_result.best_params_)\n",
    "print('Randomized Search - Best Score: %s' % randomized_result.best_score_)\n",
    "print('Randomized Search - Best Hyperparameters: %s' % randomized_result.best_params_)"
   ]
  },
  {
   "cell_type": "markdown",
   "metadata": {},
   "source": [
    "RFE Method for feature selection"
   ]
  },
  {
   "cell_type": "code",
   "execution_count": null,
   "metadata": {},
   "outputs": [
    {
     "name": "stderr",
     "output_type": "stream",
     "text": [
      "d:\\Programs\\Python\\lib\\site-packages\\sklearn\\svm\\_base.py:1225: ConvergenceWarning:\n",
      "\n",
      "Liblinear failed to converge, increase the number of iterations.\n",
      "\n",
      "d:\\Programs\\Python\\lib\\site-packages\\sklearn\\svm\\_base.py:1225: ConvergenceWarning:\n",
      "\n",
      "Liblinear failed to converge, increase the number of iterations.\n",
      "\n",
      "d:\\Programs\\Python\\lib\\site-packages\\sklearn\\svm\\_base.py:1225: ConvergenceWarning:\n",
      "\n",
      "Liblinear failed to converge, increase the number of iterations.\n",
      "\n",
      "d:\\Programs\\Python\\lib\\site-packages\\sklearn\\svm\\_base.py:1225: ConvergenceWarning:\n",
      "\n",
      "Liblinear failed to converge, increase the number of iterations.\n",
      "\n",
      "d:\\Programs\\Python\\lib\\site-packages\\sklearn\\svm\\_base.py:1225: ConvergenceWarning:\n",
      "\n",
      "Liblinear failed to converge, increase the number of iterations.\n",
      "\n",
      "d:\\Programs\\Python\\lib\\site-packages\\sklearn\\svm\\_base.py:1225: ConvergenceWarning:\n",
      "\n",
      "Liblinear failed to converge, increase the number of iterations.\n",
      "\n",
      "d:\\Programs\\Python\\lib\\site-packages\\sklearn\\svm\\_base.py:1225: ConvergenceWarning:\n",
      "\n",
      "Liblinear failed to converge, increase the number of iterations.\n",
      "\n",
      "d:\\Programs\\Python\\lib\\site-packages\\sklearn\\svm\\_base.py:1225: ConvergenceWarning:\n",
      "\n",
      "Liblinear failed to converge, increase the number of iterations.\n",
      "\n",
      "d:\\Programs\\Python\\lib\\site-packages\\sklearn\\svm\\_base.py:1225: ConvergenceWarning:\n",
      "\n",
      "Liblinear failed to converge, increase the number of iterations.\n",
      "\n",
      "d:\\Programs\\Python\\lib\\site-packages\\sklearn\\svm\\_base.py:1225: ConvergenceWarning:\n",
      "\n",
      "Liblinear failed to converge, increase the number of iterations.\n",
      "\n",
      "d:\\Programs\\Python\\lib\\site-packages\\sklearn\\svm\\_base.py:1225: ConvergenceWarning:\n",
      "\n",
      "Liblinear failed to converge, increase the number of iterations.\n",
      "\n",
      "d:\\Programs\\Python\\lib\\site-packages\\sklearn\\svm\\_base.py:1225: ConvergenceWarning:\n",
      "\n",
      "Liblinear failed to converge, increase the number of iterations.\n",
      "\n",
      "d:\\Programs\\Python\\lib\\site-packages\\sklearn\\svm\\_base.py:1225: ConvergenceWarning:\n",
      "\n",
      "Liblinear failed to converge, increase the number of iterations.\n",
      "\n",
      "d:\\Programs\\Python\\lib\\site-packages\\sklearn\\svm\\_base.py:1225: ConvergenceWarning:\n",
      "\n",
      "Liblinear failed to converge, increase the number of iterations.\n",
      "\n",
      "d:\\Programs\\Python\\lib\\site-packages\\sklearn\\svm\\_base.py:1225: ConvergenceWarning:\n",
      "\n",
      "Liblinear failed to converge, increase the number of iterations.\n",
      "\n",
      "d:\\Programs\\Python\\lib\\site-packages\\sklearn\\svm\\_base.py:1225: ConvergenceWarning:\n",
      "\n",
      "Liblinear failed to converge, increase the number of iterations.\n",
      "\n",
      "d:\\Programs\\Python\\lib\\site-packages\\sklearn\\svm\\_base.py:1225: ConvergenceWarning:\n",
      "\n",
      "Liblinear failed to converge, increase the number of iterations.\n",
      "\n",
      "d:\\Programs\\Python\\lib\\site-packages\\sklearn\\svm\\_base.py:1225: ConvergenceWarning:\n",
      "\n",
      "Liblinear failed to converge, increase the number of iterations.\n",
      "\n",
      "d:\\Programs\\Python\\lib\\site-packages\\sklearn\\svm\\_base.py:1225: ConvergenceWarning:\n",
      "\n",
      "Liblinear failed to converge, increase the number of iterations.\n",
      "\n",
      "d:\\Programs\\Python\\lib\\site-packages\\sklearn\\svm\\_base.py:1225: ConvergenceWarning:\n",
      "\n",
      "Liblinear failed to converge, increase the number of iterations.\n",
      "\n",
      "d:\\Programs\\Python\\lib\\site-packages\\sklearn\\svm\\_base.py:1225: ConvergenceWarning:\n",
      "\n",
      "Liblinear failed to converge, increase the number of iterations.\n",
      "\n",
      "d:\\Programs\\Python\\lib\\site-packages\\sklearn\\svm\\_base.py:1225: ConvergenceWarning:\n",
      "\n",
      "Liblinear failed to converge, increase the number of iterations.\n",
      "\n",
      "d:\\Programs\\Python\\lib\\site-packages\\sklearn\\svm\\_base.py:1225: ConvergenceWarning:\n",
      "\n",
      "Liblinear failed to converge, increase the number of iterations.\n",
      "\n",
      "d:\\Programs\\Python\\lib\\site-packages\\sklearn\\svm\\_base.py:1225: ConvergenceWarning:\n",
      "\n",
      "Liblinear failed to converge, increase the number of iterations.\n",
      "\n",
      "d:\\Programs\\Python\\lib\\site-packages\\sklearn\\svm\\_base.py:1225: ConvergenceWarning:\n",
      "\n",
      "Liblinear failed to converge, increase the number of iterations.\n",
      "\n",
      "d:\\Programs\\Python\\lib\\site-packages\\sklearn\\svm\\_base.py:1225: ConvergenceWarning:\n",
      "\n",
      "Liblinear failed to converge, increase the number of iterations.\n",
      "\n",
      "d:\\Programs\\Python\\lib\\site-packages\\sklearn\\svm\\_base.py:1225: ConvergenceWarning:\n",
      "\n",
      "Liblinear failed to converge, increase the number of iterations.\n",
      "\n",
      "d:\\Programs\\Python\\lib\\site-packages\\sklearn\\svm\\_base.py:1225: ConvergenceWarning:\n",
      "\n",
      "Liblinear failed to converge, increase the number of iterations.\n",
      "\n",
      "d:\\Programs\\Python\\lib\\site-packages\\sklearn\\svm\\_base.py:1225: ConvergenceWarning:\n",
      "\n",
      "Liblinear failed to converge, increase the number of iterations.\n",
      "\n",
      "d:\\Programs\\Python\\lib\\site-packages\\sklearn\\svm\\_base.py:1225: ConvergenceWarning:\n",
      "\n",
      "Liblinear failed to converge, increase the number of iterations.\n",
      "\n",
      "d:\\Programs\\Python\\lib\\site-packages\\sklearn\\svm\\_base.py:1225: ConvergenceWarning:\n",
      "\n",
      "Liblinear failed to converge, increase the number of iterations.\n",
      "\n",
      "d:\\Programs\\Python\\lib\\site-packages\\sklearn\\svm\\_base.py:1225: ConvergenceWarning:\n",
      "\n",
      "Liblinear failed to converge, increase the number of iterations.\n",
      "\n",
      "d:\\Programs\\Python\\lib\\site-packages\\sklearn\\svm\\_base.py:1225: ConvergenceWarning:\n",
      "\n",
      "Liblinear failed to converge, increase the number of iterations.\n",
      "\n",
      "d:\\Programs\\Python\\lib\\site-packages\\sklearn\\svm\\_base.py:1225: ConvergenceWarning:\n",
      "\n",
      "Liblinear failed to converge, increase the number of iterations.\n",
      "\n",
      "d:\\Programs\\Python\\lib\\site-packages\\sklearn\\svm\\_base.py:1225: ConvergenceWarning:\n",
      "\n",
      "Liblinear failed to converge, increase the number of iterations.\n",
      "\n",
      "d:\\Programs\\Python\\lib\\site-packages\\sklearn\\svm\\_base.py:1225: ConvergenceWarning:\n",
      "\n",
      "Liblinear failed to converge, increase the number of iterations.\n",
      "\n",
      "d:\\Programs\\Python\\lib\\site-packages\\sklearn\\svm\\_base.py:1225: ConvergenceWarning:\n",
      "\n",
      "Liblinear failed to converge, increase the number of iterations.\n",
      "\n"
     ]
    },
    {
     "name": "stdout",
     "output_type": "stream",
     "text": [
      "Optimum number of features: 6\n",
      "Score with 6 features: 0.978256\n"
     ]
    },
    {
     "name": "stderr",
     "output_type": "stream",
     "text": [
      "d:\\Programs\\Python\\lib\\site-packages\\sklearn\\svm\\_base.py:1225: ConvergenceWarning:\n",
      "\n",
      "Liblinear failed to converge, increase the number of iterations.\n",
      "\n"
     ]
    }
   ],
   "source": [
    "nof_list=np.arange(1,9)            \n",
    "high_score=0\n",
    "\n",
    "nof=0           \n",
    "score_list =[]\n",
    "for n in range(len(nof_list)):\n",
    "    features, target = data.loc[:, data.columns != 'Usage_kWh'], data['Usage_kWh']\n",
    "    features_train, features_test, target_train, target_test = train_test_split(features, target, test_size=0.3, random_state=0)\n",
    "\n",
    "    scaler = MinMaxScaler()\n",
    "    features_train = scaler.fit_transform(features_train)\n",
    "    features_test = scaler.transform(features_test)\n",
    "    \n",
    "    model = LinearSVR(C=10, fit_intercept=True)\n",
    "    rfe = RFE(estimator=model, n_features_to_select=nof_list[n])\n",
    "    features_train_rfe = rfe.fit_transform(features_train,target_train)\n",
    "    features_test_rfe = rfe.transform(features_test)\n",
    "    model.fit(features_train_rfe, target_train)\n",
    "    score = model.score(features_test_rfe, target_test)\n",
    "    score_list.append(score)\n",
    "    if(score>high_score):\n",
    "        high_score = score\n",
    "        nof = nof_list[n]\n",
    "print(\"Optimum number of features: %d\" %nof)\n",
    "print(\"Score with %d features: %f\" % (nof, high_score))"
   ]
  },
  {
   "cell_type": "code",
   "execution_count": null,
   "metadata": {},
   "outputs": [
    {
     "name": "stderr",
     "output_type": "stream",
     "text": [
      "d:\\Programs\\Python\\lib\\site-packages\\sklearn\\svm\\_base.py:1225: ConvergenceWarning:\n",
      "\n",
      "Liblinear failed to converge, increase the number of iterations.\n",
      "\n",
      "d:\\Programs\\Python\\lib\\site-packages\\sklearn\\svm\\_base.py:1225: ConvergenceWarning:\n",
      "\n",
      "Liblinear failed to converge, increase the number of iterations.\n",
      "\n",
      "d:\\Programs\\Python\\lib\\site-packages\\sklearn\\svm\\_base.py:1225: ConvergenceWarning:\n",
      "\n",
      "Liblinear failed to converge, increase the number of iterations.\n",
      "\n"
     ]
    },
    {
     "name": "stdout",
     "output_type": "stream",
     "text": [
      "Index(['Lagging_Current_Reactive.Power_kVarh',\n",
      "       'Leading_Current_Reactive_Power_kVarh', 'CO2(tCO2)',\n",
      "       'Lagging_Current_Power_Factor', 'Leading_Current_Power_Factor', 'NSM',\n",
      "       'Load_Type'],\n",
      "      dtype='object')\n"
     ]
    },
    {
     "name": "stderr",
     "output_type": "stream",
     "text": [
      "d:\\Programs\\Python\\lib\\site-packages\\sklearn\\svm\\_base.py:1225: ConvergenceWarning:\n",
      "\n",
      "Liblinear failed to converge, increase the number of iterations.\n",
      "\n"
     ]
    }
   ],
   "source": [
    "features, target = data.loc[:, data.columns != 'Usage_kWh'], data['Usage_kWh']\n",
    "cols = list(features.columns)\n",
    "scaler = MinMaxScaler()\n",
    "features = scaler.fit_transform(features)\n",
    "model = LinearSVR(C=10, fit_intercept=True)\n",
    "rfe = RFE(estimator=model, n_features_to_select=7)             \n",
    "features_rfe = rfe.fit_transform(features, target)  \n",
    "model.fit(features_rfe, target)              \n",
    "temp = pd.Series(rfe.support_,index = cols)\n",
    "selected_features_rfe = temp[temp==True].index\n",
    "print(selected_features_rfe)"
   ]
  },
  {
   "cell_type": "markdown",
   "metadata": {},
   "source": [
    "Testing model with hyperparameters and selected features"
   ]
  },
  {
   "cell_type": "code",
   "execution_count": null,
   "metadata": {},
   "outputs": [
    {
     "name": "stdout",
     "output_type": "stream",
     "text": [
      "The train score for ridge model is 0.9806066048635957\n",
      "The test score for ridge model is 0.9782326395495173\n"
     ]
    },
    {
     "name": "stderr",
     "output_type": "stream",
     "text": [
      "d:\\Programs\\Python\\lib\\site-packages\\sklearn\\svm\\_base.py:1225: ConvergenceWarning:\n",
      "\n",
      "Liblinear failed to converge, increase the number of iterations.\n",
      "\n"
     ]
    }
   ],
   "source": [
    "features, target = data.loc[:, data.columns != 'Usage_kWh'], data['Usage_kWh']\n",
    "features = features.loc[:, features.columns != 'NSM']\n",
    "features = features.loc[:, features.columns != 'Day_of_week']\n",
    "features_train, features_test, target_train, target_test = train_test_split(features, target, test_size=0.3, random_state=0)\n",
    "scaler = MinMaxScaler()\n",
    "features_train = scaler.fit_transform(features_train)\n",
    "features_test = scaler.transform(features_test)\n",
    "model = LinearSVR(C=10, fit_intercept=True)\n",
    "model.fit(features_train, target_train)\n",
    "\n",
    "train_score = model.score(features_train, target_train)\n",
    "test_score = model.score(features_test, target_test)\n",
    "\n",
    "print(\"The train score for ridge model is {}\".format(train_score))\n",
    "print(\"The test score for ridge model is {}\".format(test_score))"
   ]
  },
  {
   "cell_type": "markdown",
   "metadata": {},
   "source": [
    "<h3>LinearSVR</h3>\n",
    "<h4>with RobustScaler</h4>"
   ]
  },
  {
   "cell_type": "markdown",
   "metadata": {},
   "source": [
    "Grid Search for hyperparameters"
   ]
  },
  {
   "cell_type": "code",
   "execution_count": 60,
   "metadata": {},
   "outputs": [
    {
     "name": "stderr",
     "output_type": "stream",
     "text": [
      "d:\\master\\ML\\Projekat1\\venv\\lib\\site-packages\\sklearn\\svm\\_base.py:1225: ConvergenceWarning: Liblinear failed to converge, increase the number of iterations.\n",
      "  warnings.warn(\n",
      "d:\\master\\ML\\Projekat1\\venv\\lib\\site-packages\\sklearn\\model_selection\\_search.py:306: UserWarning: The total space of parameters 8 is smaller than n_iter=10. Running 8 iterations. For exhaustive searches, use GridSearchCV.\n",
      "  warnings.warn(\n"
     ]
    },
    {
     "name": "stdout",
     "output_type": "stream",
     "text": [
      "Grid Search - Best Score: -2.4606774220982475\n",
      "Grid Search - Best Hyperparameters: {'C': 0.1, 'fit_intercept': True}\n",
      "Randomized Search - Best Score: -2.4683466583921816\n",
      "Randomized Search - Best Hyperparameters: {'fit_intercept': True, 'C': 0.1}\n"
     ]
    },
    {
     "name": "stderr",
     "output_type": "stream",
     "text": [
      "d:\\master\\ML\\Projekat1\\venv\\lib\\site-packages\\sklearn\\svm\\_base.py:1225: ConvergenceWarning: Liblinear failed to converge, increase the number of iterations.\n",
      "  warnings.warn(\n"
     ]
    }
   ],
   "source": [
    "features, target = data.loc[:, data.columns != 'Usage_kWh'], data['Usage_kWh']\n",
    "features_train, features_test, target_train, target_test = train_test_split(features, target, test_size=0.3, random_state=0)\n",
    "\n",
    "scaler = RobustScaler()\n",
    "features_train = scaler.fit_transform(features_train)\n",
    "\n",
    "model = LinearSVR()\n",
    "\n",
    "space = dict()\n",
    "space['C'] = [0.1, 1, 10, 100]\n",
    "space['fit_intercept'] = [True, False]\n",
    "\n",
    "grid_search = GridSearchCV(model, space, scoring='neg_mean_absolute_error', n_jobs=8, cv=10)\n",
    "randomized_search = RandomizedSearchCV(model, space, scoring='neg_mean_absolute_error', n_jobs=8, cv=10)\n",
    "\n",
    "grid_result = grid_search.fit(features_train, target_train)\n",
    "randomized_result = randomized_search.fit(features_train, target_train)\n",
    "\n",
    "print('Grid Search - Best Score: %s' % grid_result.best_score_)\n",
    "print('Grid Search - Best Hyperparameters: %s' % grid_result.best_params_)\n",
    "print('Randomized Search - Best Score: %s' % randomized_result.best_score_)\n",
    "print('Randomized Search - Best Hyperparameters: %s' % randomized_result.best_params_)"
   ]
  },
  {
   "cell_type": "markdown",
   "metadata": {},
   "source": [
    "RFE Method for feature selection"
   ]
  },
  {
   "cell_type": "code",
   "execution_count": null,
   "metadata": {},
   "outputs": [
    {
     "name": "stderr",
     "output_type": "stream",
     "text": [
      "d:\\Programs\\Python\\lib\\site-packages\\sklearn\\svm\\_base.py:1225: ConvergenceWarning:\n",
      "\n",
      "Liblinear failed to converge, increase the number of iterations.\n",
      "\n",
      "d:\\Programs\\Python\\lib\\site-packages\\sklearn\\svm\\_base.py:1225: ConvergenceWarning:\n",
      "\n",
      "Liblinear failed to converge, increase the number of iterations.\n",
      "\n",
      "d:\\Programs\\Python\\lib\\site-packages\\sklearn\\svm\\_base.py:1225: ConvergenceWarning:\n",
      "\n",
      "Liblinear failed to converge, increase the number of iterations.\n",
      "\n",
      "d:\\Programs\\Python\\lib\\site-packages\\sklearn\\svm\\_base.py:1225: ConvergenceWarning:\n",
      "\n",
      "Liblinear failed to converge, increase the number of iterations.\n",
      "\n",
      "d:\\Programs\\Python\\lib\\site-packages\\sklearn\\svm\\_base.py:1225: ConvergenceWarning:\n",
      "\n",
      "Liblinear failed to converge, increase the number of iterations.\n",
      "\n",
      "d:\\Programs\\Python\\lib\\site-packages\\sklearn\\svm\\_base.py:1225: ConvergenceWarning:\n",
      "\n",
      "Liblinear failed to converge, increase the number of iterations.\n",
      "\n",
      "d:\\Programs\\Python\\lib\\site-packages\\sklearn\\svm\\_base.py:1225: ConvergenceWarning:\n",
      "\n",
      "Liblinear failed to converge, increase the number of iterations.\n",
      "\n"
     ]
    },
    {
     "name": "stdout",
     "output_type": "stream",
     "text": [
      "Optimum number of features: 7\n",
      "Score with 7 features: 0.977908\n"
     ]
    },
    {
     "name": "stderr",
     "output_type": "stream",
     "text": [
      "d:\\Programs\\Python\\lib\\site-packages\\sklearn\\svm\\_base.py:1225: ConvergenceWarning:\n",
      "\n",
      "Liblinear failed to converge, increase the number of iterations.\n",
      "\n"
     ]
    }
   ],
   "source": [
    "nof_list=np.arange(1,9)            \n",
    "high_score=0\n",
    "\n",
    "nof=0           \n",
    "score_list =[]\n",
    "for n in range(len(nof_list)):\n",
    "    features, target = data.loc[:, data.columns != 'Usage_kWh'], data['Usage_kWh']\n",
    "    features_train, features_test, target_train, target_test = train_test_split(features, target, test_size=0.3, random_state=0)\n",
    "\n",
    "    scaler = RobustScaler()\n",
    "    features_train = scaler.fit_transform(features_train)\n",
    "    features_test = scaler.transform(features_test)\n",
    "    \n",
    "    model = LinearSVR(C=0.1, fit_intercept=True)\n",
    "    rfe = RFE(estimator=model, n_features_to_select=nof_list[n])\n",
    "    features_train_rfe = rfe.fit_transform(features_train,target_train)\n",
    "    features_test_rfe = rfe.transform(features_test)\n",
    "    model.fit(features_train_rfe, target_train)\n",
    "    score = model.score(features_test_rfe, target_test)\n",
    "    score_list.append(score)\n",
    "    if(score>high_score):\n",
    "        high_score = score\n",
    "        nof = nof_list[n]\n",
    "print(\"Optimum number of features: %d\" %nof)\n",
    "print(\"Score with %d features: %f\" % (nof, high_score))"
   ]
  },
  {
   "cell_type": "code",
   "execution_count": null,
   "metadata": {},
   "outputs": [
    {
     "name": "stdout",
     "output_type": "stream",
     "text": [
      "Index(['Lagging_Current_Reactive.Power_kVarh',\n",
      "       'Leading_Current_Reactive_Power_kVarh', 'CO2(tCO2)',\n",
      "       'Lagging_Current_Power_Factor', 'NSM', 'WeekStatus', 'Day_of_week',\n",
      "       'Load_Type'],\n",
      "      dtype='object')\n"
     ]
    },
    {
     "name": "stderr",
     "output_type": "stream",
     "text": [
      "d:\\Programs\\Python\\lib\\site-packages\\sklearn\\svm\\_base.py:1225: ConvergenceWarning:\n",
      "\n",
      "Liblinear failed to converge, increase the number of iterations.\n",
      "\n"
     ]
    }
   ],
   "source": [
    "features, target = data.loc[:, data.columns != 'Usage_kWh'], data['Usage_kWh']\n",
    "cols = list(features.columns)\n",
    "scaler = RobustScaler()\n",
    "features = scaler.fit_transform(features)\n",
    "model = LinearSVR(C=0.1, fit_intercept=True)\n",
    "rfe = RFE(estimator=model, n_features_to_select=8)             \n",
    "features_rfe = rfe.fit_transform(features, target)  \n",
    "model.fit(features_rfe, target)              \n",
    "temp = pd.Series(rfe.support_,index = cols)\n",
    "selected_features_rfe = temp[temp==True].index\n",
    "print(selected_features_rfe)"
   ]
  },
  {
   "cell_type": "markdown",
   "metadata": {},
   "source": [
    "Testing model with hyperparameters and selected features"
   ]
  },
  {
   "cell_type": "code",
   "execution_count": 61,
   "metadata": {},
   "outputs": [
    {
     "name": "stdout",
     "output_type": "stream",
     "text": [
      "The train score for Linear SVR model is 0.9803357839488879\n",
      "The test score for Linear SVR model is 0.9779111377043631\n"
     ]
    }
   ],
   "source": [
    "features, target = data.loc[:, data.columns != 'Usage_kWh'], data['Usage_kWh']\n",
    "features = features.loc[:, features.columns != 'Leading_Current_Power_Factor']\n",
    "features_train, features_test, target_train, target_test = train_test_split(features, target, test_size=0.3, random_state=0)\n",
    "scaler = RobustScaler()\n",
    "features_train = scaler.fit_transform(features_train)\n",
    "features_test = scaler.transform(features_test)\n",
    "model = LinearSVR(C=0.1, fit_intercept=True)\n",
    "model.fit(features_train, target_train)\n",
    "\n",
    "train_score = model.score(features_train, target_train)\n",
    "test_score = model.score(features_test, target_test)\n",
    "\n",
    "print(\"The train score for Linear SVR model is {}\".format(train_score))\n",
    "print(\"The test score for Linear SVR model is {}\".format(test_score))"
   ]
  }
 ],
 "metadata": {
  "kernelspec": {
   "display_name": "Python 3",
   "language": "python",
   "name": "python3"
  },
  "language_info": {
   "codemirror_mode": {
    "name": "ipython",
    "version": 3
   },
   "file_extension": ".py",
   "mimetype": "text/x-python",
   "name": "python",
   "nbconvert_exporter": "python",
   "pygments_lexer": "ipython3",
   "version": "3.10.0 (tags/v3.10.0:b494f59, Oct  4 2021, 19:00:18) [MSC v.1929 64 bit (AMD64)]"
  },
  "orig_nbformat": 4,
  "vscode": {
   "interpreter": {
    "hash": "8b312a9c96c8269637e7d53c115346ac2e720ab09ab0e05e241f316c60c4013f"
   }
  }
 },
 "nbformat": 4,
 "nbformat_minor": 2
}
